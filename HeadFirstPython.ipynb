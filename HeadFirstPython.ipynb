{
 "cells": [
  {
   "cell_type": "code",
   "execution_count": 3,
   "metadata": {
    "collapsed": false
   },
   "outputs": [],
   "source": [
    "train_files= ['james.txt','julie.txt','sarah.txt','mikey.txt']\n",
    "with open(train_files[0]) as f:\n",
    "    james=f.read()\n",
    "    james=james.strip().split(',')\n",
    "with open(train_files[1]) as f:\n",
    "    julie=f.read()\n",
    "    julie=julie.strip().split(',')\n",
    "with open(train_files[2]) as f:\n",
    "    sarah=f.read()\n",
    "    sarah=sarah.strip().split(',')\n",
    "with open(train_files[3]) as f:\n",
    "    mikey=f.read()\n",
    "    mikey=mikey.strip().split(',')"
   ]
  },
  {
   "cell_type": "code",
   "execution_count": 8,
   "metadata": {
    "collapsed": false
   },
   "outputs": [
    {
     "name": "stdout",
     "output_type": "stream",
     "text": [
      "['2-22', '2-34', '2.34', '2.45', '2:01', '2:01', '3.01', '3:10', '3:21']\n",
      "['2-23', '2.11', '2.59', '2:11', '2:23', '3-10', '3-21', '3.21', '3:10']\n",
      "['2-25', '2-55', '2.18', '2.58', '2:39', '2:54', '2:55', '2:55', '2:58']\n",
      "['2.49', '2:22', '2:38', '3.01', '3.02', '3.02', '3:01', '3:02', '3:22']\n"
     ]
    }
   ],
   "source": [
    "print (james)\n",
    "print (julie)\n",
    "print (sarah)\n",
    "print (mikey)"
   ]
  },
  {
   "cell_type": "code",
   "execution_count": 11,
   "metadata": {
    "collapsed": true
   },
   "outputs": [],
   "source": [
    "def sanitize(time_string):\n",
    "    if('-'in time_string):\n",
    "        splitter='-'\n",
    "    elif(\":\" in time_string):\n",
    "        splitter=\":\"\n",
    "    else:\n",
    "        return(time_string)\n",
    "    (mins,secs)= time_string.split(splitter)\n",
    "    return (mins+'.'+secs)"
   ]
  },
  {
   "cell_type": "code",
   "execution_count": 30,
   "metadata": {
    "collapsed": false
   },
   "outputs": [
    {
     "name": "stdout",
     "output_type": "stream",
     "text": [
      "['2.22', '2.34', '2.34', '2.45', '2.01', '2.01', '3.01', '3.10', '3.21']\n"
     ]
    }
   ],
   "source": [
    "n_james=[]\n",
    "for each_word in james:\n",
    "    n_james.append(sanitize(each_word))\n",
    "\n",
    "print(n_james)"
   ]
  },
  {
   "cell_type": "code",
   "execution_count": 36,
   "metadata": {
    "collapsed": false
   },
   "outputs": [
    {
     "name": "stdout",
     "output_type": "stream",
     "text": [
      "{'2.45', '2.22', '2.34', '3.10', '3.01', '3.21', '2.01'}\n"
     ]
    }
   ],
   "source": [
    "# set用来删除重复选项\n",
    "n_james=set([sanitize(each_word) for each_word in james])\n",
    "print(n_james)"
   ]
  },
  {
   "cell_type": "code",
   "execution_count": 22,
   "metadata": {
    "collapsed": false
   },
   "outputs": [
    {
     "name": "stdout",
     "output_type": "stream",
     "text": [
      "['2.01', '2.01', '2.22', '2.34', '2.34', '2.45', '3.01', '3.10', '3.21']\n"
     ]
    }
   ],
   "source": [
    "print(sorted(n_james))"
   ]
  },
  {
   "cell_type": "code",
   "execution_count": 27,
   "metadata": {
    "collapsed": false
   },
   "outputs": [
    {
     "name": "stdout",
     "output_type": "stream",
     "text": [
      "None\n"
     ]
    }
   ],
   "source": [
    "print(n_james.sort())"
   ]
  },
  {
   "cell_type": "code",
   "execution_count": 28,
   "metadata": {
    "collapsed": true
   },
   "outputs": [],
   "source": [
    "n_james.sort()"
   ]
  },
  {
   "cell_type": "code",
   "execution_count": 41,
   "metadata": {
    "collapsed": false
   },
   "outputs": [
    {
     "name": "stdout",
     "output_type": "stream",
     "text": [
      "['2.01', '2.22', '2.34']\n"
     ]
    }
   ],
   "source": [
    "#去掉重复并去前三个值\n",
    "print(sorted(set(n_james))[0:3])"
   ]
  },
  {
   "cell_type": "code",
   "execution_count": 50,
   "metadata": {
    "collapsed": false
   },
   "outputs": [],
   "source": [
    "def read_file(file_name):\n",
    "    try:\n",
    "        with open(file_name) as f:\n",
    "            data= f.read()\n",
    "            return data.strip().split(',')\n",
    "    except IOError as io:\n",
    "        print('File Error'+ str(io))\n",
    "        return(None)"
   ]
  },
  {
   "cell_type": "code",
   "execution_count": 51,
   "metadata": {
    "collapsed": false
   },
   "outputs": [
    {
     "name": "stdout",
     "output_type": "stream",
     "text": [
      "['2-34', '3:21', '2.34', '2.45', '3.01', '2:01', '2:01', '3:10', '2-22']\n"
     ]
    }
   ],
   "source": [
    "james= read_file(train_files[0])\n",
    "print(james)"
   ]
  },
  {
   "cell_type": "code",
   "execution_count": 55,
   "metadata": {
    "collapsed": false
   },
   "outputs": [
    {
     "name": "stdout",
     "output_type": "stream",
     "text": [
      "2.18's fatest times are: ['2.55']\n"
     ]
    }
   ],
   "source": [
    "sarah_data={}\n",
    "sarah_data['Name']= sarah.pop(0)\n",
    "sarah_data['DOB']= sarah.pop(0)\n",
    "sarah_data['Times']=sarah\n",
    "print(sarah_data['Name']+\"'s fatest times are: \"+\n",
    "      str(sorted(set([sanitize(t) for t in sarah_data['Times']]))[0:3]))"
   ]
  },
  {
   "cell_type": "code",
   "execution_count": null,
   "metadata": {
    "collapsed": true
   },
   "outputs": [],
   "source": []
  },
  {
   "cell_type": "code",
   "execution_count": null,
   "metadata": {
    "collapsed": true
   },
   "outputs": [],
   "source": []
  }
 ],
 "metadata": {
  "kernelspec": {
   "display_name": "Python 3",
   "language": "python",
   "name": "python3"
  },
  "language_info": {
   "codemirror_mode": {
    "name": "ipython",
    "version": 3
   },
   "file_extension": ".py",
   "mimetype": "text/x-python",
   "name": "python",
   "nbconvert_exporter": "python",
   "pygments_lexer": "ipython3",
   "version": "3.6.2"
  }
 },
 "nbformat": 4,
 "nbformat_minor": 2
}
