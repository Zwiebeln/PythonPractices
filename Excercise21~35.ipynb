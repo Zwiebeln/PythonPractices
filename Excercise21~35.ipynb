{
 "cells": [
  {
   "cell_type": "markdown",
   "metadata": {},
   "source": [
    "all excercises come from http://www.practicepython.org"
   ]
  },
  {
   "cell_type": "markdown",
   "metadata": {},
   "source": [
    "## Excercise21\n",
    "Take the code from the How To Decode A Website exercise (if you didn’t do it or just want to play with some different code, use the code from the solution), and instead of printing the results to a screen, write the results to a txt file. In your code, just make up a name for the file you are saving to."
   ]
  },
  {
   "cell_type": "code",
   "execution_count": 5,
   "metadata": {
    "collapsed": true
   },
   "outputs": [],
   "source": [
    "from bs4 import BeautifulSoup\n",
    "import requests"
   ]
  },
  {
   "cell_type": "code",
   "execution_count": 2,
   "metadata": {
    "collapsed": true
   },
   "outputs": [],
   "source": [
    "url=\"https://www.nytimes.com\"\n",
    "content= requests.get(url)"
   ]
  },
  {
   "cell_type": "code",
   "execution_count": 12,
   "metadata": {
    "collapsed": false
   },
   "outputs": [
    {
     "name": "stdout",
     "output_type": "stream",
     "text": [
      "Gunman Used Rapid-Fire Device; Sent Money Abroad\n",
      "Rifle Fitted to Speed Firing; Funds Wired to Philippines\n",
      "Mourning the Many Lives ‘Gone Too Fast’\n",
      "Heroes of the Las Vegas Shooting\n",
      "Who Was Stephen Paddock? What We Know So Far\n",
      "Vantage Point Opened the Way for Mass Slaughter\n",
      "Nine Rounds a Second: Why This Shooting Was Different\n",
      "Democrats, With Little Hope, Press G.O.P. on Guns\n",
      "Shots, Chaos and a Frantic Search\n",
      "If Only Stephen Paddock Were a Muslim\n",
      "Country Musicians, Stand Up to the N.R.A.\n",
      "The Dawn of a New Las Vegas\n",
      "Nothing Will Change After the Las Vegas Shooting\n",
      "Letter: ‘Please Mr. President. This Is a Plea. A Hope.’\n",
      "How Do You Protect a Concert From a Gunman 32 Stories Up?\n",
      "Country Music Stars in Shock\n",
      "Kennedy Seems Open to Court Limits on Gerrymandering\n",
      "The Upshot: How New Math of Gerrymandering Works\n",
      "Trump Tells Puerto Ricans to Be ‘Proud’ of Low Death Toll\n",
      "Bottlenecks Impede Aid Distribution, Puerto Ricans Say\n",
      "Puerto Ricans Pull Together (and Worry About Pulling Apart)\n",
      "\n",
      "                                    A Puerto Rico Still in Ruins                            \n",
      "On Busy Calendar, E.P.A. Chief Puts Industries First\n",
      "U.S. Expels 15 Cuban Diplomats in Response to Illness\n",
      "Lincoln Center Scraps $500 Million Plan for Geffen Hall\n",
      "\n",
      "                                    Growing Up in Prison in Peru                            \n",
      "Tom Petty, Rocker Who Wrote Durable, Defiant Hits, Dies at 66\n",
      "Listen to ‘The Daily’\n",
      "Your Wednesday Briefing\n",
      "California Today: No Easy Answers After Las Vegas\n",
      "No Headphone Jack on Your Phone? Here Are Your Options.\n",
      "Illustrated Books to Help Children Embrace Their Differences\n",
      "Tax Cuts, Sold as Fuel for Growth, Widen Wealth Gap\n",
      "In India, a Ghost Town and a Mythological Bridge\n",
      "The New Bedtime Story Is a Podcast\n",
      "Why Lake Erie Is Turning Bright Green (It’s Not Good)\n",
      "Mayor Appoints Acting Commissioner to Head City Jails\n",
      "Nobel Prize in Physics Awarded to LIGO Black Hole Researchers\n",
      "Lawmakers Berate Former Equifax C.E.O. Over Huge Data Breach\n",
      "Marseille Assailant Was Briefly Detained Days Before Attack\n",
      "‘Dreamers’ Rush to Renew Protections One Last Time\n",
      "Morning Briefing: Australia Edition\n",
      "Morning Briefing: Asia Edition\n",
      "Morning Briefing: Europe Edition\n",
      "California Today\n",
      "Morning Briefing\n",
      "Australia’s Big Media Set to Get Bigger, With Help From Lawmakers\n",
      "Elon Musk’s Mars Vision: A One-Size-Fits-All Rocket. A Very Big One.\n",
      "Heaps of Stuff We Like\n",
      "Carla Bruni-Sarkozy: Me and My Guitar\n",
      "Scientists in Mexico Rush to Deploy Seismic Sensors\n",
      "Modernist Magic in Indiana\n",
      "The Trump Tax Idea That’s a Boon for Shareholders\n",
      "Editorial: Chaos in Catalonia\n",
      "Brooks: The Philosophical Assault on Trumpism\n",
      "Cohen: Damage to Catalonia\n",
      "Goldberg: An Unfit President Fails Puerto Rico\n",
      "Krugman: Republicans, Trapped by Their Flimflam\n",
      "Op-Docs: The Rebel Puppeteers of Sudan\n",
      "The Ritual Humiliation of Theresa May\n",
      "How the N.C.A.A. Cheats Student Athletes\n",
      "‘Look Up! Sputnik!’ 60 Years Later\n",
      "How The Wirecutter Obsesses Over Products So You Don’t Have To\n",
      "It Takes a Foot Thief\n",
      "How The Wirecutter Obsesses Over Products So You Don’t Have To\n",
      "Play Today’s Puzzle\n",
      "Play Today’s Puzzle\n",
      "Lang Lang, Injured, Gets a New Left Hand\n",
      "‘Look Up! Sputnik!’ 60 Years Later\n",
      "As Seas Warm, Whales Face New Dangers\n",
      "The Best TV Shows and Movies New to Streaming\n",
      "How the N.C.A.A. Cheats Student Athletes\n",
      "Coconut-Cracking Rat of the Solomon Islands\n",
      "Review: ‘Sisters’ by Lily Tuck\n",
      "The Dogs of the Vietnam War\n",
      "How to Jump-Start Your Career\n",
      "Ludmila Belousova, Russian Skater, Dies at 81\n",
      "It’s Up to the Rebels to Stop Yemen’s War\n",
      "Q&A: The Perils of Peanut Butter\n",
      "\n",
      "        Catalans Strike and Block Roads to Protest Vote Crackdown by Spain        \n",
      "London’s Uber Ban Raises Questions on Race and Immigration\n",
      "U.S. Expels 15 Cuban Diplomats From Embassy in Washington\n",
      "\n",
      "        Economic Scene: Tax Cuts, Sold as Fuel for Growth, Widen Gap Between Rich and Poor        \n",
      "Lawmakers Berate Former Equifax C.E.O. Over Huge Data Breach\n",
      "Ford Chief Outlines Investment Shift Away From Passenger Cars\n",
      "\n",
      "        Op-Ed Contributor: America Used to Be Good at Gun Control. What Happened?        \n",
      "477 Days. 521 Mass Shootings. Zero Action From Congress.\n",
      "Op-Ed Contributor: Rosanne Cash: Country Musicians, Stand Up to the N.R.A.\n",
      "\n",
      "        Live Briefing: Las Vegas Shooting: Gunman’s Rifle Had ‘Bump Stock’ to Make It Rapid-Fire Weapon        \n",
      "The Las Vegas Victims: Their Families Tell Their Stories\n",
      "Stephen Paddock, Las Vegas Suspect, Was a Gambler Who Drew Little Attention\n",
      "\n",
      "        The Shift: After Las Vegas Shooting, Fake News Regains Its Megaphone        \n",
      "Key Document Is Unsealed in Waymo’s Trade Secrets Case Against Uber\n",
      "Uber C.E.O. Aims to Win Back London\n",
      "\n",
      "        Lincoln Center Scraps a $500 Million Geffen Hall Renovation        \n",
      "Tom Petty, a Mainstay of Rock With the Heartbreakers, Dies at 66\n",
      "In Las Vegas, Concert Security Met a New Threat: Aerial Assault\n",
      "\n",
      "        Democrats Lament Inability to Pass Gun Restrictions: ‘We Are Stuck’        \n",
      "Kennedy’s Vote Is in Play on Voting Maps Warped by Politics\n",
      "E.P.A. Chief’s Calendar: A Stream of Industry Meetings and Trips Home\n",
      "\n",
      "        Fashion Review: Eden in Extremis at Chanel and Alexander McQueen        \n",
      "First Person: How I Helped My Best Male Friend Pick a Custom Wedding Suit\n",
      "It’s a Look: Biking to Work, Arriving in Style\n",
      "\n",
      "        Review: ‘Blade Runner 2049’ Tries to Honor the Original and to Slip Free of It        \n",
      "Can Hollywood Movies About Climate Change Make a Difference?\n",
      "Roman Polanski Accused of Rape by Former German Actress\n",
      "\n",
      "        A Mapathon to Pinpoint Areas Hardest Hit in Puerto Rico        \n",
      "Hoping to Honor Hendrix on the Street Where He Once Lived\n",
      "De Blasio Appoints Acting Commissioner to Head City Jails\n",
      "\n",
      "        On Baseball: Ervin Santana Shocked the Yankees 12 Years Ago. Can He Do It Again?        \n",
      "The Last Unbeaten Team: Surprise, It’s the Chiefs\n",
      "Aaron Judge Arrives at the Next Chapter in His Career: October\n",
      "\n",
      "        Review: In ‘Breeders,’ Parenting as a (Literal) Cage Match        \n",
      "Review: Jefferson, Dickens and Tolstoy Debate Jesus. ‘Discord’ Ensues.\n",
      "Review: An ‘As You Like It’ That Is More Prose Than Poetry\n",
      "\n",
      "        2017 Nobel Prize in Physics Awarded to LIGO Black Hole Researchers        \n",
      "As Seas Warm, Whales Face New Dangers\n",
      "Scientists in Mexico Scramble to Deploy Seismic Sensors\n",
      "\n",
      "        Jalal Talabani, Kurdish Leader and Iraq’s First Postwar President, Is Dead at 83        \n",
      "Tom Petty, a Mainstay of Rock With the Heartbreakers, Dies at 66\n",
      "Zuzana Ruzickova, Leading Harpsichordist and War Survivor, Dies at 90\n",
      "\n",
      "        Review: Jason Ritter Saves ‘Kevin (Probably) Saves the World’        \n",
      "The Best TV Shows and Movies New to Netflix, Amazon and More in October\n",
      "The First Time: Caitriona Balfe: The First Time I Left Home (and Fell in Love)\n",
      "\n",
      "        Obesity Was Rising as Ghana Embraced Fast Food. Then Came KFC.        \n",
      "With Affordable Care Act’s Future Cloudy, Costs for Many Seem Sure to Soar\n",
      "2017 Nobel Prize in Medicine Goes to 3 Americans for Body Clock Studies\n",
      "\n",
      "        Frugal Traveler: Through Three Neighborhoods, Revisiting Chicago’s Charms        \n",
      "Surfacing: Five Places to Go in Athens\n",
      "Footsteps: Vancouver Island, Through an Artist’s Eyes\n",
      "\n",
      "        Books of The Times: Jeffrey Eugenides’s Short Stories Salvage Wit From Life’s Grind        \n",
      "Books of The Times: Through the Lens of the Obama Years, Ta-Nehisi Coates Reckons With Race, Identity and Trump\n",
      "Q. & A.: Tell Us 5 Things About Your Book: David Friend on ‘The Naughty Nineties’\n",
      "\n",
      "        Your Money: A Game to Help Students Pay the Right Price for College        \n",
      "Veterans Agency Seeks to Scrap Ethics Law on For-Profit Colleges\n",
      "After Stabbing, Teachers Will Get Training on Defusing Behavior Issues\n",
      "\n",
      "        Restaurant Review: A Providence Chef Has Connections at the Docks        \n",
      "Using Science and History to Unlock the Secrets of Bread\n",
      "Lights! Camera! Culinary School Will Teach Instagram Skills\n",
      "\n",
      "        Feature: Frances McDormand’s Difficult Women        \n",
      "First Words: The Golden Age of ‘Existential’ Dread\n",
      "Feature: When ‘Not Guilty’ Is a Life Sentence\n",
      "\n",
      "        The Fix: Decorating a Tiny Apartment, One Shoe at a Time        \n",
      "Renters: Upsizing to a Two-Bedroom\n",
      "On the Market: Homes for Sale in Toronto\n",
      "\n",
      "        How the New Math of Gerrymandering Works        \n",
      "The New Health Care: What Makes Singapore’s Health Care So Cheap?\n",
      "Upshot Ideas Matrix: How to Prevent Gun Deaths? Where Experts and the Public Agree\n",
      "\n",
      "        What We’re Reading        \n",
      "How Wirecutter Obsesses Over Products So You Don’t Have To\n",
      "It Takes a Foot Thief\n",
      "\n",
      "        G.M. and Ford Lay Out Plans to Expand Electric Models        \n",
      "Wheels: How to Avoid Buying a Car Flooded by Hurricanes\n",
      "Lyft Adds Ford to Its List of Self-Driving Car Partners\n",
      "\n",
      "        Guide: How to Build a Skin Care Routine        \n",
      "Artists Who Peddle Products — and Politics\n",
      "Behind the Scenes in Paris with Joseph Altuzarra\n",
      "Decorating a Tiny Apartment, One Shoe at a Time\n",
      "Search for Homes for Sale or Rent\n",
      "Mortgage Calculator\n"
     ]
    }
   ],
   "source": [
    "soup= BeautifulSoup(content.text,\"html5lib\")\n",
    "for parts in soup.findAll(class_=\"story-heading\"):\n",
    "    with open('article_titles.txt','w') as f:\n",
    "        if parts.a: \n",
    "            f.write(parts.a.text.replace(\"\\n\", \" \").strip())\n",
    "            print(parts.a.text.replace(\"\\n\", \" \").strip())\n",
    "    #but some article titles are not included in the <a>\n",
    "        else: \n",
    "            f.write(parts.contents[0])\n",
    "            print(parts.contents[0])\n",
    "        "
   ]
  },
  {
   "cell_type": "markdown",
   "metadata": {
    "collapsed": true
   },
   "source": [
    "\n",
    "## Excercise 22"
   ]
  },
  {
   "cell_type": "markdown",
   "metadata": {},
   "source": [
    "Given a .txt file that has a list of a bunch of names, count **how many of each name** there are in the file, and print out the results to the screen. I have a .txt file for you, if you want to use it!"
   ]
  },
  {
   "cell_type": "code",
   "execution_count": 7,
   "metadata": {
    "collapsed": true
   },
   "outputs": [],
   "source": [
    "from collections import Counter"
   ]
  },
  {
   "cell_type": "code",
   "execution_count": 14,
   "metadata": {
    "collapsed": false
   },
   "outputs": [],
   "source": [
    "with open(\"names_file.txt\") as f:\n",
    "    cnt= Counter()\n",
    "    for line in f:\n",
    "        cnt[line.strip()]+=1 "
   ]
  },
  {
   "cell_type": "code",
   "execution_count": 15,
   "metadata": {
    "collapsed": false
   },
   "outputs": [
    {
     "name": "stdout",
     "output_type": "stream",
     "text": [
      "Counter({'Xiye': 7, 'Mystic': 7, '957': 7, 'Condi': 7, 'Zero': 7, 'Ben': 7})\n"
     ]
    }
   ],
   "source": [
    "print(cnt)"
   ]
  },
  {
   "cell_type": "markdown",
   "metadata": {},
   "source": [
    "## Excercise 23\n",
    "Given two .txt files that have lists of numbers in them, find the numbers that are overlapping. \n",
    "One \".txt\" file has a list of all prime numbers under 1000, and the other \".txt\" file has a list of happy numbers up to 1000.\n",
    "\n",
    "(If you forgot, prime numbers are numbers that can’t be divided by any other number. And yes, happy numbers are a real thing in mathematics - you can look it up on Wikipedia. The explanation is easier with an example, which I will describe below.)"
   ]
  },
  {
   "cell_type": "code",
   "execution_count": 26,
   "metadata": {
    "collapsed": false
   },
   "outputs": [],
   "source": [
    "prim=[]\n",
    "with open(\"primenumbers.txt\") as prim_file:\n",
    "    for line in prim_file:\n",
    "        prim.append(line)\n",
    "\n",
    "happy=[]\n",
    "with open(\"happynumbers.txt\") as prim_file:\n",
    "    for line in prim_file:\n",
    "        happy.append(line)\n",
    "    "
   ]
  },
  {
   "cell_type": "code",
   "execution_count": 34,
   "metadata": {
    "collapsed": false
   },
   "outputs": [],
   "source": [
    "overlap= [elem.strip() for elem in prim if elem in happy ]"
   ]
  },
  {
   "cell_type": "code",
   "execution_count": 35,
   "metadata": {
    "collapsed": false
   },
   "outputs": [
    {
     "data": {
      "text/plain": [
       "['7',\n",
       " '13',\n",
       " '19',\n",
       " '23',\n",
       " '31',\n",
       " '79',\n",
       " '97',\n",
       " '103',\n",
       " '109',\n",
       " '139',\n",
       " '167',\n",
       " '193',\n",
       " '239',\n",
       " '263',\n",
       " '293',\n",
       " '313',\n",
       " '331',\n",
       " '367',\n",
       " '379',\n",
       " '383',\n",
       " '397',\n",
       " '487',\n",
       " '563',\n",
       " '617',\n",
       " '653',\n",
       " '673',\n",
       " '683',\n",
       " '709',\n",
       " '739',\n",
       " '761',\n",
       " '881',\n",
       " '907',\n",
       " '937']"
      ]
     },
     "execution_count": 35,
     "metadata": {},
     "output_type": "execute_result"
    }
   ],
   "source": [
    "overlap"
   ]
  },
  {
   "cell_type": "markdown",
   "metadata": {},
   "source": [
    "## Excercise 24\n",
    "This exercise is Part 1 of 4 of the Tic Tac Toe exercise series. \n",
    "\n",
    "Time for some fake graphics! Let’s say we want to draw game boards that look like this:"
   ]
  },
  {
   "cell_type": "markdown",
   "metadata": {},
   "source": [
    " --- --- --- \n",
    "|   |   |   | \n",
    " --- --- ---  \n",
    "|   |   |   | \n",
    " --- --- ---  \n",
    "|   |   |   | \n",
    " --- --- --- "
   ]
  },
  {
   "cell_type": "markdown",
   "metadata": {},
   "source": [
    "This one is 3x3 (like in tic tac toe). Obviously, they come in many other sizes (8x8 for chess, 19x19 for Go, and many more).\n",
    "\n",
    "Ask the user what size game board they want to draw, and draw it for them to the screen using Python’s print statement.\n",
    "\n",
    "Remember that in Python 3, printing to the screen is accomplished by\n",
    "\n",
    "  print(\"Thing to show on screen\")"
   ]
  },
  {
   "cell_type": "code",
   "execution_count": 24,
   "metadata": {
    "collapsed": false
   },
   "outputs": [
    {
     "name": "stdout",
     "output_type": "stream",
     "text": [
      "What size do you want? Give one number plz: 5\n"
     ]
    }
   ],
   "source": [
    "size= int(input(\"What size do you want? Give one number plz: \"))"
   ]
  },
  {
   "cell_type": "code",
   "execution_count": 25,
   "metadata": {
    "collapsed": false
   },
   "outputs": [
    {
     "name": "stdout",
     "output_type": "stream",
     "text": [
      " --- --- --- --- ---\n",
      "|   |   |   |   |   |   \n",
      " --- --- --- --- ---\n",
      "|   |   |   |   |   |   \n",
      " --- --- --- --- ---\n",
      "|   |   |   |   |   |   \n",
      " --- --- --- --- ---\n",
      "|   |   |   |   |   |   \n",
      " --- --- --- --- ---\n",
      "|   |   |   |   |   |   \n",
      " --- --- --- --- ---\n"
     ]
    }
   ],
   "source": [
    "def buildboard(size):\n",
    "    for i in range(size):\n",
    "        print(\" ---\"* size)\n",
    "        print(\"|   \"* (size+1))\n",
    "\n",
    "    print(\" ---\"* size)\n",
    "\n",
    "buildboard(size)"
   ]
  },
  {
   "cell_type": "markdown",
   "metadata": {},
   "source": [
    "## Excercise 25\n",
    "In a previous exercise, we’ve written a program that “knows” a number and asks a user to guess it.\n",
    "\n",
    "This time, we’re going to do exactly the opposite. You, the user, will have in your head a number between 0 and 100. The program will guess a number, and you, the user, will say whether it is too high, too low, or your number.\n",
    "\n",
    "At the end of this exchange, your program should print out how many guesses it took to get your number.\n",
    "\n",
    "As the writer of this program, you will have to choose how your program will strategically guess. A naive strategy can be to simply start the guessing at 1, and keep going (2, 3, 4, etc.) until you hit the number. But that’s not an optimal guessing strategy. An alternate strategy might be to guess 50 (right in the middle of the range), and then increase / decrease by 1 as needed. After you’ve written the program, try to find the optimal strategy! (We’ll talk about what is the optimal one next week with the solution.)"
   ]
  },
  {
   "cell_type": "code",
   "execution_count": 88,
   "metadata": {
    "collapsed": true
   },
   "outputs": [],
   "source": [
    "import numpy as np"
   ]
  },
  {
   "cell_type": "code",
   "execution_count": 104,
   "metadata": {
    "collapsed": false
   },
   "outputs": [],
   "source": [
    "def guessnumber(judge):\n",
    "    global current_guess,min_,max_\n",
    "    if (judge==\"higher\"):\n",
    "        max_=current_guess-1\n",
    "    elif(judge==\"lower\"):\n",
    "        min_=current_guess+1\n",
    "    else:\n",
    "        print(\"Bingo!\")\n",
    "    #print(min_, max_)\n",
    "    current_guess= np.random.randint(min_, max_)\n",
    "    return current_guess"
   ]
  },
  {
   "cell_type": "code",
   "execution_count": 105,
   "metadata": {
    "collapsed": false
   },
   "outputs": [
    {
     "name": "stdout",
     "output_type": "stream",
     "text": [
      "61\n",
      "Is this number higher or lower? Or right?higher\n",
      "11\n",
      "Is this number higher or lower? Or right?lower\n",
      "59\n",
      "Is this number higher or lower? Or right?higher\n",
      "16\n",
      "Is this number higher or lower? Or right?lower\n",
      "46\n",
      "Is this number higher or lower? Or right?higher\n",
      "39\n",
      "Is this number higher or lower? Or right?lower\n",
      "42\n",
      "Is this number higher or lower? Or right?right\n",
      "Bingo!\n"
     ]
    }
   ],
   "source": [
    "current_guess= np.random.randint(1,100)\n",
    "judge=\"judge\"\n",
    "min_= 1\n",
    "max_=100\n",
    "while(judge!=\"right\"):\n",
    "    print(current_guess)\n",
    "    judge= input(\"Is this number higher or lower? Or right?\")\n",
    "    guessnumber(judge)"
   ]
  },
  {
   "cell_type": "markdown",
   "metadata": {},
   "source": [
    "### 这段代码还有bug！当min_+1和max_-1数字相同时！"
   ]
  },
  {
   "cell_type": "markdown",
   "metadata": {
    "collapsed": true
   },
   "source": [
    "## Excercises\n",
    "This exercise is Part 2 of 4 of the Tic Tac Toe exercise series. The other exercises are: Part 1, Part 3, and Part 4.\n",
    "\n",
    "As you may have guessed, we are trying to build up to a full tic-tac-toe board. However, this is significantly more than half an hour of coding, so we’re doing it in pieces.\n",
    "\n",
    "Today, we will simply focus on checking whether someone has WON a game of Tic Tac Toe, not worrying about how the moves were made.\n",
    "\n",
    "If a game of Tic Tac Toe is represented as a list of lists, like so:\n",
    "\n",
    "game = [[1, 2, 0],\n",
    "\t[2, 1, 0],\n",
    "\t[2, 1, 1]]\n",
    "where a 0 means an empty square, a 1 means that player 1 put their token in that space, and a 2 means that player 2 put their token in that space.\n",
    "\n",
    "Your task this week: given a 3 by 3 list of lists that represents a Tic Tac Toe game board, tell me whether anyone has won, and tell me which player won, if any. A Tic Tac Toe win is 3 in a row - either in a row, a column, or a diagonal. Don’t worry about the case where TWO people have won - assume that in every board there will only be one winner.\n",
    "\n",
    "Here are some more examples to work with:\n",
    "\n",
    "winner_is_2 = [[2, 2, 0],\n",
    "\t[2, 1, 0],\n",
    "\t[2, 1, 1]]\n",
    "\n",
    "winner_is_1 = [[1, 2, 0],\n",
    "\t[2, 1, 0],\n",
    "\t[2, 1, 1]]\n",
    "\n",
    "winner_is_also_1 = [[0, 1, 0],\n",
    "\t[2, 1, 0],\n",
    "\t[2, 1, 1]]\n",
    "\n",
    "no_winner = [[1, 2, 0],\n",
    "\t[2, 1, 0],\n",
    "\t[2, 1, 2]]\n",
    "\n",
    "also_no_winner = [[1, 2, 0],\n",
    "\t[2, 1, 0],\n",
    "\t[2, 1, 0]]"
   ]
  },
  {
   "cell_type": "code",
   "execution_count": 3,
   "metadata": {
    "collapsed": false
   },
   "outputs": [
    {
     "name": "stdout",
     "output_type": "stream",
     "text": [
      "player 2 is winner\n",
      "player 1 is winner\n",
      "player 1 is winner\n",
      "no winner yet\n",
      "no winner yet\n"
     ]
    }
   ],
   "source": [
    "winner_is_2 = [[2, 2, 0], [2, 1, 0], [2, 1, 1]]\n",
    "winner_is_1 = [[1, 2, 0], [2, 1, 0], [2, 1, 1]]\n",
    "winner_is_also_1 = [[0, 1, 0], [2, 1, 0], [2, 1, 1]]\n",
    "no_winner = [[1, 2, 0], [2, 1, 0], [2, 1, 2]]\n",
    "also_no_winner = [[1, 2, 0], [2, 1, 0], [2, 1, 0]]\n",
    "\n",
    "def checkLine(a, b, c):\n",
    "    if (a==b==c and a!=0):\n",
    "        return True\n",
    "    else:\n",
    "        return False\n",
    "\n",
    "def checkAll(l):\n",
    "    Winner= False\n",
    "    if checkLine(l[0][0], l[0][1], l[0][2]):\n",
    "        Winner= True \n",
    "        print(\"player \"+ str(l[0][0])+\" is winner\")\n",
    "    if checkLine(l[1][0], l[1][1], l[1][2]):\n",
    "        Winner= True \n",
    "        print(\"player \"+ str(l[1][0])+\" is winner\")\n",
    "    if checkLine(l[2][0], l[2][1], l[2][2]):\n",
    "        Winner= True \n",
    "        print(\"player \"+ str(l[2][0])+\" is winner\")\n",
    "\n",
    "    if checkLine(l[0][0], l[1][0], l[2][0]):\n",
    "        Winner= True \n",
    "        print(\"player \"+ str(l[0][0])+\" is winner\")\n",
    "    if checkLine(l[0][1], l[1][1], l[2][1]):\n",
    "        Winner= True \n",
    "        print(\"player \"+ str(l[0][1])+\" is winner\")\n",
    "    if checkLine(l[0][2], l[1][2], l[2][2]):\n",
    "        Winner= True \n",
    "        print(\"player \"+ str(l[0][2])+\" is winner\")\n",
    "    \n",
    "    if checkLine(l[0][0], l[1][1], l[2][2]):\n",
    "        Winner= True \n",
    "        print(\"player \"+ str(l[0][0])+\" is winner\")\n",
    "    if checkLine(l[0][2], l[1][1], l[2][0]):\n",
    "        Winner= True \n",
    "        print(\"player \"+ str(l[0][2])+\" is winner\")\n",
    "        \n",
    "    if(Winner== False):\n",
    "        print(\"no winner yet\")\n",
    "     \n",
    "    \n",
    "checkAll(winner_is_2)\n",
    "checkAll(winner_is_1)\n",
    "checkAll(winner_is_also_1)\n",
    "checkAll(no_winner)\n",
    "checkAll(also_no_winner)"
   ]
  },
  {
   "cell_type": "markdown",
   "metadata": {},
   "source": [
    "## Excercise27\n",
    "This exercise is Part 3 of 4 of the Tic Tac Toe exercise series. The other exercises are: Part 1, Part 2, and Part 4.\n",
    "\n",
    "In a previous exercise we explored the idea of using a list of lists as a “data structure” to store information about a tic tac toe game. In a tic tac toe game, the “game server” needs to know where the Xs and Os are in the board, to know whether player 1 or player 2 (or whoever is X and O won).\n",
    "\n",
    "There has also been an exercise about drawing the actual tic tac toe gameboard using text characters.\n",
    "\n",
    "The next logical step is to deal with handling user input. When a player (say player 1, who is X) wants to place an X on the screen, they can’t just click on a terminal. So we are going to approximate this clicking simply by asking the user for a coordinate of where they want to place their piece.\n",
    "\n",
    "As a reminder, our tic tac toe game is really a list of lists. The game starts out with an empty game board like this:\n",
    "\n",
    "game = [[0, 0, 0],\n",
    "\t[0, 0, 0],\n",
    "\t[0, 0, 0]]\n",
    "The computer asks Player 1 (X) what their move is (in the format row,col), and say they type 1,3. Then the game would print out\n",
    "\n",
    "game = [[0, 0, X],\n",
    "\t[0, 0, 0],\n",
    "\t[0, 0, 0]]\n",
    "And ask Player 2 for their move, printing an O in that place.\n",
    "\n",
    "Things to note:\n",
    "\n",
    "For this exercise, assume that player 1 (the first player to move) will always be X and player 2 (the second player) will always be O.\n",
    "Notice how in the example I gave coordinates for where I want to move starting from (1, 1) instead of (0, 0). To people who don’t program, starting to count at 0 is a strange concept, so it is better for the user experience if the row counts and column counts start at 1. This is not required, but whichever way you choose to implement this, it should be explained to the player.\n",
    "Ask the user to enter coordinates in the form “row,col” - a number, then a comma, then a number. Then you can use your Python skills to figure out which row and column they want their piece to be in.\n",
    "Don’t worry about checking whether someone won the game, but if a player tries to put a piece in a game position where there already is another piece, do not allow the piece to go there."
   ]
  },
  {
   "cell_type": "code",
   "execution_count": 14,
   "metadata": {
    "collapsed": false
   },
   "outputs": [],
   "source": [
    "def checkLine(a, b, c):\n",
    "    if (a==b==c and a!=0):\n",
    "        return True\n",
    "    else:\n",
    "        return False\n",
    "    \n",
    "def checkAll(l):\n",
    "    Winner= False\n",
    "    if checkLine(l[0][0], l[0][1], l[0][2]):\n",
    "        print(\"player \"+ str(l[0][0])+\" is winner\")\n",
    "        Winner= True \n",
    "    if checkLine(l[1][0], l[1][1], l[1][2]):\n",
    "        Winner= True \n",
    "        print(\"player \"+ str(l[1][0])+\" is winner\")\n",
    "    if checkLine(l[2][0], l[2][1], l[2][2]):\n",
    "        Winner= True \n",
    "        print(\"player \"+ str(l[2][0])+\" is winner\")\n",
    "\n",
    "    if checkLine(l[0][0], l[1][0], l[2][0]):\n",
    "        Winner= True \n",
    "        print(\"player \"+ str(l[0][0])+\" is winner\")\n",
    "    if checkLine(l[0][1], l[1][1], l[2][1]):\n",
    "        Winner= True \n",
    "        print(\"player \"+ str(l[0][1])+\" is winner\")\n",
    "    if checkLine(l[0][2], l[1][2], l[2][2]):\n",
    "        Winner= True \n",
    "        print(\"player \"+ str(l[0][2])+\" is winner\")\n",
    "    \n",
    "    if checkLine(l[0][0], l[1][1], l[2][2]):\n",
    "        Winner= True \n",
    "        print(\"player \"+ str(l[0][0])+\" is winner\")\n",
    "    if checkLine(l[0][2], l[1][1], l[2][0]):\n",
    "        Winner= True \n",
    "        print(\"player \"+ str(l[0][2])+\" is winner\")\n",
    "        \n",
    "    if(Winner== False):\n",
    "        #print(\"no winner yet\")\n",
    "        return True\n",
    "    else:\n",
    "        return False\n"
   ]
  },
  {
   "cell_type": "code",
   "execution_count": 20,
   "metadata": {
    "collapsed": false
   },
   "outputs": [
    {
     "name": "stdout",
     "output_type": "stream",
     "text": [
      "Player1, plz give the row number: 0\n",
      "Give the col number: 0\n",
      "Player2, plz give the row number: 1\n",
      "Give the col number: 1\n",
      "Player1, plz give the row number: 0\n",
      "Give the col number: 1\n",
      "Player2, plz give the row number: 2\n",
      "Give the col number: 2\n",
      "Player1, plz give the row number: 0\n",
      "Give the col number: 2\n",
      "Player2, plz give the row number: 1\n",
      "Give the col number: 0\n",
      "player X is winner\n"
     ]
    }
   ],
   "source": [
    "continueGame=True\n",
    "while(continueGame):\n",
    "    row1,col1 = int(input(\"Player1, plz give the row number: \")),int(input(\"Give the col number: \"))\n",
    "    game[row1][col1]=\"X\"\n",
    "    row2,col2 = int(input(\"Player2, plz give the row number: \")),int(input(\"Give the col number: \"))\n",
    "    game[row2][col2]=\"O\"\n",
    "    if(not checkAll(game)):\n",
    "        continueGame=False\n",
    "    "
   ]
  },
  {
   "cell_type": "markdown",
   "metadata": {
    "collapsed": true
   },
   "source": [
    "## Excercise28\n",
    "Implement a function that takes as input three variables, and returns the largest of the three. Do this without using the Python max() function!"
   ]
  },
  {
   "cell_type": "code",
   "execution_count": 20,
   "metadata": {
    "collapsed": false
   },
   "outputs": [],
   "source": [
    "import sys\n",
    "def max_(list_):\n",
    "    max_=-sys.maxsize\n",
    "    for i in range(len(list_)):\n",
    "        if(list_[i]>max_):\n",
    "            max_=list_[i]\n",
    "    return max_"
   ]
  },
  {
   "cell_type": "code",
   "execution_count": 24,
   "metadata": {
    "collapsed": false
   },
   "outputs": [
    {
     "data": {
      "text/plain": [
       "12"
      ]
     },
     "execution_count": 24,
     "metadata": {},
     "output_type": "execute_result"
    }
   ],
   "source": [
    "max_([6,12,10])"
   ]
  },
  {
   "cell_type": "markdown",
   "metadata": {
    "collapsed": true
   },
   "source": [
    "## Exercise 29\n",
    "\n",
    "In 3 previous exercises, we built up a few components needed to build a Tic Tac Toe game in Python:\n",
    "\n",
    "* Draw the Tic Tac Toe game board\n",
    "* Checking whether a game board has a winner\n",
    "* Handle a player move from user input\n",
    "* The next step is to put all these three components together to make a two-player Tic Tac Toe game!"
   ]
  },
  {
   "cell_type": "code",
   "execution_count": 109,
   "metadata": {
    "collapsed": false
   },
   "outputs": [],
   "source": [
    "def buildboard(game):\n",
    "    for i in range(3):\n",
    "        print(\" ---\"*3)\n",
    "        print((\"| \"+str(game[0][i])+\" \")+(\"| \"+str(game[1][i])+\" \")+(\"| \"+str(game[2][i])+\" \")+\"|\" )\n",
    "    print(\" ---\"*3)"
   ]
  },
  {
   "cell_type": "code",
   "execution_count": 110,
   "metadata": {
    "collapsed": false
   },
   "outputs": [
    {
     "name": "stdout",
     "output_type": "stream",
     "text": [
      " --- --- ---\n",
      "| 0 | 1 | 0 |\n",
      " --- --- ---\n",
      "| 1 | 0 | 0 |\n",
      " --- --- ---\n",
      "| 0 | 0 | 2 |\n",
      " --- --- ---\n"
     ]
    }
   ],
   "source": [
    "game = [[0, 1, 0], [1, 0, 0], [0, 0, 2]]\n",
    "buildboard(game)"
   ]
  },
  {
   "cell_type": "code",
   "execution_count": 115,
   "metadata": {
    "collapsed": false
   },
   "outputs": [
    {
     "name": "stdout",
     "output_type": "stream",
     "text": [
      " --- --- ---\n",
      "| 0 | 0 | 0 |\n",
      " --- --- ---\n",
      "| 0 | 0 | 0 |\n",
      " --- --- ---\n",
      "| 0 | 0 | 0 |\n",
      " --- --- ---\n",
      "Player1, plz give the row number: 0\n",
      "Give the col number: 0\n",
      " --- --- ---\n",
      "| 1 | 0 | 0 |\n",
      " --- --- ---\n",
      "| 0 | 0 | 0 |\n",
      " --- --- ---\n",
      "| 0 | 0 | 0 |\n",
      " --- --- ---\n",
      "Player2, plz give the row number: 0\n",
      "Give the col number: 1\n",
      " --- --- ---\n",
      "| 1 | 0 | 0 |\n",
      " --- --- ---\n",
      "| 2 | 0 | 0 |\n",
      " --- --- ---\n",
      "| 0 | 0 | 0 |\n",
      " --- --- ---\n",
      "Player1, plz give the row number: 1\n",
      "Give the col number: 0\n",
      " --- --- ---\n",
      "| 1 | 1 | 0 |\n",
      " --- --- ---\n",
      "| 2 | 0 | 0 |\n",
      " --- --- ---\n",
      "| 0 | 0 | 0 |\n",
      " --- --- ---\n",
      "Player2, plz give the row number: 1\n",
      "Give the col number: 2\n",
      " --- --- ---\n",
      "| 1 | 1 | 0 |\n",
      " --- --- ---\n",
      "| 2 | 0 | 0 |\n",
      " --- --- ---\n",
      "| 0 | 2 | 0 |\n",
      " --- --- ---\n",
      "Player1, plz give the row number: 2\n",
      "Give the col number: 0\n",
      " --- --- ---\n",
      "| 1 | 1 | 1 |\n",
      " --- --- ---\n",
      "| 2 | 0 | 0 |\n",
      " --- --- ---\n",
      "| 0 | 2 | 0 |\n",
      " --- --- ---\n",
      "Player2, plz give the row number: 2\n",
      "Give the col number: 1\n",
      " --- --- ---\n",
      "| 1 | 1 | 1 |\n",
      " --- --- ---\n",
      "| 2 | 0 | 2 |\n",
      " --- --- ---\n",
      "| 0 | 2 | 0 |\n",
      " --- --- ---\n",
      "player 1 is winner\n"
     ]
    }
   ],
   "source": [
    "def initialize(size):\n",
    "    game = [[0, 0, 0], [0, 0, 0], [0, 0, 0]]\n",
    "    buildboard(game)\n",
    "    checkAll(game)\n",
    "    return game\n",
    "\n",
    "continueGame=True\n",
    "game= initialize(3)\n",
    "while(continueGame):\n",
    "    row1,col1 = int(input(\"Player1, plz give the row number: \")),int(input(\"Give the col number: \"))\n",
    "    game[row1][col1]=1\n",
    "    buildboard(game)\n",
    "    row2,col2 = int(input(\"Player2, plz give the row number: \")),int(input(\"Give the col number: \"))\n",
    "    game[row2][col2]=2\n",
    "    buildboard(game)\n",
    "    if(not checkAll(game)):\n",
    "        continueGame=False\n",
    "    "
   ]
  },
  {
   "cell_type": "markdown",
   "metadata": {},
   "source": [
    "## Excercise30\n",
    "This exercise is Part 1 of 3 of the Hangman exercise series. \n",
    "\n",
    "In this exercise, the task is to write a function that picks a random word from a list of words from the [SOWPODS dictionary](http://norvig.com/ngrams/sowpods.txt). Download this file and save it in the same directory as your Python code. This file is Peter Norvig’s compilation of the dictionary of words used in professional Scrabble tournaments. Each line in the file contains a single word.\n",
    "\n",
    "Aside: what is SOWPODS\n",
    "\n",
    "SOWPODS is a word list commonly used in word puzzles and games (like Scrabble for example). It is the combination of the Scrabble Player’s Dictionary and the Chamber’s Dictionary. (The history of SOWPODS is quite interesting, I highly recommend reading the [Wikipedia article](https://en.wikipedia.org/wiki/Collins_Scrabble_Words) if you are curious.)"
   ]
  },
  {
   "cell_type": "code",
   "execution_count": 120,
   "metadata": {
    "collapsed": true
   },
   "outputs": [],
   "source": [
    "import numpy as np"
   ]
  },
  {
   "cell_type": "code",
   "execution_count": 122,
   "metadata": {
    "collapsed": false
   },
   "outputs": [
    {
     "name": "stdout",
     "output_type": "stream",
     "text": [
      "HAMSHACKLES\n"
     ]
    }
   ],
   "source": [
    "with open(\"sowpods.txt\") as f:\n",
    "    word= list(f)\n",
    "print(np.random.choice(word).strip())\n",
    "#这个list读取每个line然后加入一个list要方便多了"
   ]
  },
  {
   "cell_type": "markdown",
   "metadata": {},
   "source": [
    "## Excercise31\n",
    "Let’s continue building Hangman. In the game of Hangman, a clue word is given by the program that the player has to guess, letter by letter. The player guesses one letter at a time until the entire word has been guessed. (In the actual game, the player can only guess 6 letters incorrectly before losing).\n",
    "\n",
    "Let’s say the word the player has to guess is “EVAPORATE”. For this exercise, write the logic that asks a player to guess a letter and displays letters in the clue word that were guessed correctly. For now, let the player guess an infinite number of times until they get the entire word. As a bonus, keep track of the letters the player guessed and display a different message if the player tries to guess that letter again. Remember to stop the game when all the letters have been guessed correctly! Don’t worry about choosing a word randomly or keeping track of the number of guesses the player has remaining - we will deal with those in a future exercise.\n",
    "\n",
    "An example interaction can look like this:\n",
    "\n",
    "input:Welcome to Hangman!\n",
    "\n",
    "input: Guess your letter: S\n",
    "\n",
    "Incorrect!\n",
    "\n",
    "input:Guess your letter: E\n",
    "\n",
    "E ---- E\n",
    "..."
   ]
  },
  {
   "cell_type": "code",
   "execution_count": 170,
   "metadata": {
    "collapsed": false
   },
   "outputs": [
    {
     "name": "stdout",
     "output_type": "stream",
     "text": [
      "SANITY\n"
     ]
    }
   ],
   "source": [
    "with open(\"sowpods.txt\") as f:\n",
    "    words= list(f)\n",
    "word=np.random.choice(words).strip()\n",
    "print(word)\n",
    "output= list(\"_\"*len(word))\n",
    "Goon=True\n",
    "alreadyGuessed=[]     "
   ]
  },
  {
   "cell_type": "code",
   "execution_count": 171,
   "metadata": {
    "collapsed": false
   },
   "outputs": [
    {
     "name": "stdout",
     "output_type": "stream",
     "text": [
      "Welcome to Hangman! Guess your letter: s\n",
      "['S', '_', '_', '_', '_', '_']\n",
      "Welcome to Hangman! Guess your letter: ni\n",
      "['S', '_', 'N', 'I', '_', '_']\n",
      "Welcome to Hangman! Guess your letter: aty\n",
      "['S', 'A', 'N', 'I', 'T', 'Y']\n"
     ]
    }
   ],
   "source": [
    "while(Goon):\n",
    "    inputLetters = list(input(\"Welcome to Hangman! Guess your letter: \"))\n",
    "    for letter in inputLetters:\n",
    "        for i in range(len(word)):\n",
    "            if(letter.upper in AlreadyGuessed):\n",
    "                print(\"You have already Guessed letter \"+ word[i])\n",
    "            elif (word[i]==letter.upper()):\n",
    "                output[i]=letter.upper()\n",
    "                alreadyGuessed.append(letter.upper())\n",
    "        if(\"_\" not in output):\n",
    "            Goon= False\n",
    "    print(output)"
   ]
  },
  {
   "cell_type": "markdown",
   "metadata": {},
   "source": [
    "## Excercise 32\n",
    "\n",
    "You can start your Python journey anywhere, but to finish this exercise you will have to have finished Parts 1 and 2 or use the solutions (Part 1 and Part 2).\n",
    "\n",
    "In this exercise, we will finish building Hangman. In the game of Hangman, the player only has 6 incorrect guesses (head, body, 2 legs, and 2 arms) before they lose the game.\n",
    "\n",
    "In Part 1, we loaded a random word list and picked a word from it. In Part 2, we wrote the logic for guessing the letter and displaying that information to the user. In this exercise, we have to put it all together and add logic for handling guesses.\n",
    "\n",
    "Copy your code from Parts 1 and 2 into a new file as a starting point. Now add the following features:\n",
    "\n",
    "Only let the user guess 6 times, and tell the user how many guesses they have left.\n",
    "Keep track of the letters the user guessed. If the user guesses a letter they already guessed, don’t penalize them - let them guess again."
   ]
  },
  {
   "cell_type": "code",
   "execution_count": 179,
   "metadata": {
    "collapsed": false
   },
   "outputs": [
    {
     "name": "stdout",
     "output_type": "stream",
     "text": [
      "BICOASTAL\n",
      "Welcome to Hangman! Guess your letter: b\n",
      "['B', '_', '_', '_', '_', '_', '_', '_', '_']\n",
      "Welcome to Hangman! Guess your letter: s\n",
      "['B', '_', '_', '_', '_', 'S', '_', '_', '_']\n",
      "Welcome to Hangman! Guess your letter: c\n",
      "['B', '_', 'C', '_', '_', 'S', '_', '_', '_']\n",
      "Welcome to Hangman! Guess your letter: l\n",
      "['B', '_', 'C', '_', '_', 'S', '_', '_', 'L']\n",
      "Welcome to Hangman! Guess your letter: a\n",
      "['B', '_', 'C', '_', 'A', 'S', '_', 'A', 'L']\n",
      "Welcome to Hangman! Guess your letter: o\n",
      "['B', '_', 'C', 'O', 'A', 'S', '_', 'A', 'L']\n",
      "Sry, you've used all the chances\n"
     ]
    }
   ],
   "source": [
    "#pick a random word\n",
    "word=np.random.choice(words).strip()\n",
    "output= list(\"_\"*len(word))\n",
    "Goon=True\n",
    "alreadyGuessed=[]  \n",
    "print(word)\n",
    "count=0\n",
    "\n",
    "while(Goon):\n",
    "    count+=1\n",
    "    inputLetters = list(input(\"Welcome to Hangman! Guess your letter: \"))\n",
    "    for letter in inputLetters:\n",
    "        for i in range(len(word)):\n",
    "            if(letter.upper in AlreadyGuessed):\n",
    "                print(\"You have already Guessed letter \"+ word[i])\n",
    "            elif (word[i]==letter.upper()):\n",
    "                output[i]=letter.upper()\n",
    "                alreadyGuessed.append(letter.upper())\n",
    "    if(\"_\" not in output):            \n",
    "        Goon= False\n",
    "    print(output)\n",
    "    if(count>5):\n",
    "        print(\"Sry, you've used all the chances\")\n",
    "        Goon=False\n",
    "  "
   ]
  },
  {
   "cell_type": "code",
   "execution_count": null,
   "metadata": {
    "collapsed": true
   },
   "outputs": [],
   "source": []
  }
 ],
 "metadata": {
  "kernelspec": {
   "display_name": "Python 3",
   "language": "python",
   "name": "python3"
  },
  "language_info": {
   "codemirror_mode": {
    "name": "ipython",
    "version": 3
   },
   "file_extension": ".py",
   "mimetype": "text/x-python",
   "name": "python",
   "nbconvert_exporter": "python",
   "pygments_lexer": "ipython3",
   "version": "3.6.2"
  }
 },
 "nbformat": 4,
 "nbformat_minor": 2
}
