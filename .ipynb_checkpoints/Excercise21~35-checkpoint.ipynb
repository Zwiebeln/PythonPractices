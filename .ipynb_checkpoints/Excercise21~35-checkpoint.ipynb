{
 "cells": [
  {
   "cell_type": "markdown",
   "metadata": {},
   "source": [
    "## Excercise21\n",
    "Take the code from the How To Decode A Website exercise (if you didn’t do it or just want to play with some different code, use the code from the solution), and instead of printing the results to a screen, write the results to a txt file. In your code, just make up a name for the file you are saving to."
   ]
  },
  {
   "cell_type": "code",
   "execution_count": 5,
   "metadata": {
    "collapsed": true
   },
   "outputs": [],
   "source": [
    "from bs4 import BeautifulSoup\n",
    "import requests"
   ]
  },
  {
   "cell_type": "code",
   "execution_count": 2,
   "metadata": {
    "collapsed": true
   },
   "outputs": [],
   "source": [
    "url=\"https://www.nytimes.com\"\n",
    "content= requests.get(url)"
   ]
  },
  {
   "cell_type": "code",
   "execution_count": 12,
   "metadata": {
    "collapsed": false
   },
   "outputs": [
    {
     "name": "stdout",
     "output_type": "stream",
     "text": [
      "Gunman Used Rapid-Fire Device; Sent Money Abroad\n",
      "Rifle Fitted to Speed Firing; Funds Wired to Philippines\n",
      "Mourning the Many Lives ‘Gone Too Fast’\n",
      "Heroes of the Las Vegas Shooting\n",
      "Who Was Stephen Paddock? What We Know So Far\n",
      "Vantage Point Opened the Way for Mass Slaughter\n",
      "Nine Rounds a Second: Why This Shooting Was Different\n",
      "Democrats, With Little Hope, Press G.O.P. on Guns\n",
      "Shots, Chaos and a Frantic Search\n",
      "If Only Stephen Paddock Were a Muslim\n",
      "Country Musicians, Stand Up to the N.R.A.\n",
      "The Dawn of a New Las Vegas\n",
      "Nothing Will Change After the Las Vegas Shooting\n",
      "Letter: ‘Please Mr. President. This Is a Plea. A Hope.’\n",
      "How Do You Protect a Concert From a Gunman 32 Stories Up?\n",
      "Country Music Stars in Shock\n",
      "Kennedy Seems Open to Court Limits on Gerrymandering\n",
      "The Upshot: How New Math of Gerrymandering Works\n",
      "Trump Tells Puerto Ricans to Be ‘Proud’ of Low Death Toll\n",
      "Bottlenecks Impede Aid Distribution, Puerto Ricans Say\n",
      "Puerto Ricans Pull Together (and Worry About Pulling Apart)\n",
      "\n",
      "                                    A Puerto Rico Still in Ruins                            \n",
      "On Busy Calendar, E.P.A. Chief Puts Industries First\n",
      "U.S. Expels 15 Cuban Diplomats in Response to Illness\n",
      "Lincoln Center Scraps $500 Million Plan for Geffen Hall\n",
      "\n",
      "                                    Growing Up in Prison in Peru                            \n",
      "Tom Petty, Rocker Who Wrote Durable, Defiant Hits, Dies at 66\n",
      "Listen to ‘The Daily’\n",
      "Your Wednesday Briefing\n",
      "California Today: No Easy Answers After Las Vegas\n",
      "No Headphone Jack on Your Phone? Here Are Your Options.\n",
      "Illustrated Books to Help Children Embrace Their Differences\n",
      "Tax Cuts, Sold as Fuel for Growth, Widen Wealth Gap\n",
      "In India, a Ghost Town and a Mythological Bridge\n",
      "The New Bedtime Story Is a Podcast\n",
      "Why Lake Erie Is Turning Bright Green (It’s Not Good)\n",
      "Mayor Appoints Acting Commissioner to Head City Jails\n",
      "Nobel Prize in Physics Awarded to LIGO Black Hole Researchers\n",
      "Lawmakers Berate Former Equifax C.E.O. Over Huge Data Breach\n",
      "Marseille Assailant Was Briefly Detained Days Before Attack\n",
      "‘Dreamers’ Rush to Renew Protections One Last Time\n",
      "Morning Briefing: Australia Edition\n",
      "Morning Briefing: Asia Edition\n",
      "Morning Briefing: Europe Edition\n",
      "California Today\n",
      "Morning Briefing\n",
      "Australia’s Big Media Set to Get Bigger, With Help From Lawmakers\n",
      "Elon Musk’s Mars Vision: A One-Size-Fits-All Rocket. A Very Big One.\n",
      "Heaps of Stuff We Like\n",
      "Carla Bruni-Sarkozy: Me and My Guitar\n",
      "Scientists in Mexico Rush to Deploy Seismic Sensors\n",
      "Modernist Magic in Indiana\n",
      "The Trump Tax Idea That’s a Boon for Shareholders\n",
      "Editorial: Chaos in Catalonia\n",
      "Brooks: The Philosophical Assault on Trumpism\n",
      "Cohen: Damage to Catalonia\n",
      "Goldberg: An Unfit President Fails Puerto Rico\n",
      "Krugman: Republicans, Trapped by Their Flimflam\n",
      "Op-Docs: The Rebel Puppeteers of Sudan\n",
      "The Ritual Humiliation of Theresa May\n",
      "How the N.C.A.A. Cheats Student Athletes\n",
      "‘Look Up! Sputnik!’ 60 Years Later\n",
      "How The Wirecutter Obsesses Over Products So You Don’t Have To\n",
      "It Takes a Foot Thief\n",
      "How The Wirecutter Obsesses Over Products So You Don’t Have To\n",
      "Play Today’s Puzzle\n",
      "Play Today’s Puzzle\n",
      "Lang Lang, Injured, Gets a New Left Hand\n",
      "‘Look Up! Sputnik!’ 60 Years Later\n",
      "As Seas Warm, Whales Face New Dangers\n",
      "The Best TV Shows and Movies New to Streaming\n",
      "How the N.C.A.A. Cheats Student Athletes\n",
      "Coconut-Cracking Rat of the Solomon Islands\n",
      "Review: ‘Sisters’ by Lily Tuck\n",
      "The Dogs of the Vietnam War\n",
      "How to Jump-Start Your Career\n",
      "Ludmila Belousova, Russian Skater, Dies at 81\n",
      "It’s Up to the Rebels to Stop Yemen’s War\n",
      "Q&A: The Perils of Peanut Butter\n",
      "\n",
      "        Catalans Strike and Block Roads to Protest Vote Crackdown by Spain        \n",
      "London’s Uber Ban Raises Questions on Race and Immigration\n",
      "U.S. Expels 15 Cuban Diplomats From Embassy in Washington\n",
      "\n",
      "        Economic Scene: Tax Cuts, Sold as Fuel for Growth, Widen Gap Between Rich and Poor        \n",
      "Lawmakers Berate Former Equifax C.E.O. Over Huge Data Breach\n",
      "Ford Chief Outlines Investment Shift Away From Passenger Cars\n",
      "\n",
      "        Op-Ed Contributor: America Used to Be Good at Gun Control. What Happened?        \n",
      "477 Days. 521 Mass Shootings. Zero Action From Congress.\n",
      "Op-Ed Contributor: Rosanne Cash: Country Musicians, Stand Up to the N.R.A.\n",
      "\n",
      "        Live Briefing: Las Vegas Shooting: Gunman’s Rifle Had ‘Bump Stock’ to Make It Rapid-Fire Weapon        \n",
      "The Las Vegas Victims: Their Families Tell Their Stories\n",
      "Stephen Paddock, Las Vegas Suspect, Was a Gambler Who Drew Little Attention\n",
      "\n",
      "        The Shift: After Las Vegas Shooting, Fake News Regains Its Megaphone        \n",
      "Key Document Is Unsealed in Waymo’s Trade Secrets Case Against Uber\n",
      "Uber C.E.O. Aims to Win Back London\n",
      "\n",
      "        Lincoln Center Scraps a $500 Million Geffen Hall Renovation        \n",
      "Tom Petty, a Mainstay of Rock With the Heartbreakers, Dies at 66\n",
      "In Las Vegas, Concert Security Met a New Threat: Aerial Assault\n",
      "\n",
      "        Democrats Lament Inability to Pass Gun Restrictions: ‘We Are Stuck’        \n",
      "Kennedy’s Vote Is in Play on Voting Maps Warped by Politics\n",
      "E.P.A. Chief’s Calendar: A Stream of Industry Meetings and Trips Home\n",
      "\n",
      "        Fashion Review: Eden in Extremis at Chanel and Alexander McQueen        \n",
      "First Person: How I Helped My Best Male Friend Pick a Custom Wedding Suit\n",
      "It’s a Look: Biking to Work, Arriving in Style\n",
      "\n",
      "        Review: ‘Blade Runner 2049’ Tries to Honor the Original and to Slip Free of It        \n",
      "Can Hollywood Movies About Climate Change Make a Difference?\n",
      "Roman Polanski Accused of Rape by Former German Actress\n",
      "\n",
      "        A Mapathon to Pinpoint Areas Hardest Hit in Puerto Rico        \n",
      "Hoping to Honor Hendrix on the Street Where He Once Lived\n",
      "De Blasio Appoints Acting Commissioner to Head City Jails\n",
      "\n",
      "        On Baseball: Ervin Santana Shocked the Yankees 12 Years Ago. Can He Do It Again?        \n",
      "The Last Unbeaten Team: Surprise, It’s the Chiefs\n",
      "Aaron Judge Arrives at the Next Chapter in His Career: October\n",
      "\n",
      "        Review: In ‘Breeders,’ Parenting as a (Literal) Cage Match        \n",
      "Review: Jefferson, Dickens and Tolstoy Debate Jesus. ‘Discord’ Ensues.\n",
      "Review: An ‘As You Like It’ That Is More Prose Than Poetry\n",
      "\n",
      "        2017 Nobel Prize in Physics Awarded to LIGO Black Hole Researchers        \n",
      "As Seas Warm, Whales Face New Dangers\n",
      "Scientists in Mexico Scramble to Deploy Seismic Sensors\n",
      "\n",
      "        Jalal Talabani, Kurdish Leader and Iraq’s First Postwar President, Is Dead at 83        \n",
      "Tom Petty, a Mainstay of Rock With the Heartbreakers, Dies at 66\n",
      "Zuzana Ruzickova, Leading Harpsichordist and War Survivor, Dies at 90\n",
      "\n",
      "        Review: Jason Ritter Saves ‘Kevin (Probably) Saves the World’        \n",
      "The Best TV Shows and Movies New to Netflix, Amazon and More in October\n",
      "The First Time: Caitriona Balfe: The First Time I Left Home (and Fell in Love)\n",
      "\n",
      "        Obesity Was Rising as Ghana Embraced Fast Food. Then Came KFC.        \n",
      "With Affordable Care Act’s Future Cloudy, Costs for Many Seem Sure to Soar\n",
      "2017 Nobel Prize in Medicine Goes to 3 Americans for Body Clock Studies\n",
      "\n",
      "        Frugal Traveler: Through Three Neighborhoods, Revisiting Chicago’s Charms        \n",
      "Surfacing: Five Places to Go in Athens\n",
      "Footsteps: Vancouver Island, Through an Artist’s Eyes\n",
      "\n",
      "        Books of The Times: Jeffrey Eugenides’s Short Stories Salvage Wit From Life’s Grind        \n",
      "Books of The Times: Through the Lens of the Obama Years, Ta-Nehisi Coates Reckons With Race, Identity and Trump\n",
      "Q. & A.: Tell Us 5 Things About Your Book: David Friend on ‘The Naughty Nineties’\n",
      "\n",
      "        Your Money: A Game to Help Students Pay the Right Price for College        \n",
      "Veterans Agency Seeks to Scrap Ethics Law on For-Profit Colleges\n",
      "After Stabbing, Teachers Will Get Training on Defusing Behavior Issues\n",
      "\n",
      "        Restaurant Review: A Providence Chef Has Connections at the Docks        \n",
      "Using Science and History to Unlock the Secrets of Bread\n",
      "Lights! Camera! Culinary School Will Teach Instagram Skills\n",
      "\n",
      "        Feature: Frances McDormand’s Difficult Women        \n",
      "First Words: The Golden Age of ‘Existential’ Dread\n",
      "Feature: When ‘Not Guilty’ Is a Life Sentence\n",
      "\n",
      "        The Fix: Decorating a Tiny Apartment, One Shoe at a Time        \n",
      "Renters: Upsizing to a Two-Bedroom\n",
      "On the Market: Homes for Sale in Toronto\n",
      "\n",
      "        How the New Math of Gerrymandering Works        \n",
      "The New Health Care: What Makes Singapore’s Health Care So Cheap?\n",
      "Upshot Ideas Matrix: How to Prevent Gun Deaths? Where Experts and the Public Agree\n",
      "\n",
      "        What We’re Reading        \n",
      "How Wirecutter Obsesses Over Products So You Don’t Have To\n",
      "It Takes a Foot Thief\n",
      "\n",
      "        G.M. and Ford Lay Out Plans to Expand Electric Models        \n",
      "Wheels: How to Avoid Buying a Car Flooded by Hurricanes\n",
      "Lyft Adds Ford to Its List of Self-Driving Car Partners\n",
      "\n",
      "        Guide: How to Build a Skin Care Routine        \n",
      "Artists Who Peddle Products — and Politics\n",
      "Behind the Scenes in Paris with Joseph Altuzarra\n",
      "Decorating a Tiny Apartment, One Shoe at a Time\n",
      "Search for Homes for Sale or Rent\n",
      "Mortgage Calculator\n"
     ]
    }
   ],
   "source": [
    "soup= BeautifulSoup(content.text,\"html5lib\")\n",
    "for parts in soup.findAll(class_=\"story-heading\"):\n",
    "    with open('article_titles.txt','w') as f:\n",
    "        if parts.a: \n",
    "            f.write(parts.a.text.replace(\"\\n\", \" \").strip())\n",
    "            print(parts.a.text.replace(\"\\n\", \" \").strip())\n",
    "    #but some article titles are not included in the <a>\n",
    "        else: \n",
    "            f.write(parts.contents[0])\n",
    "            print(parts.contents[0])\n",
    "        "
   ]
  },
  {
   "cell_type": "markdown",
   "metadata": {
    "collapsed": true
   },
   "source": [
    "\n",
    "## Excercise 22"
   ]
  },
  {
   "cell_type": "markdown",
   "metadata": {},
   "source": [
    "Given a .txt file that has a list of a bunch of names, count **how many of each name** there are in the file, and print out the results to the screen. I have a .txt file for you, if you want to use it!"
   ]
  },
  {
   "cell_type": "code",
   "execution_count": 7,
   "metadata": {
    "collapsed": true
   },
   "outputs": [],
   "source": [
    "from collections import Counter"
   ]
  },
  {
   "cell_type": "code",
   "execution_count": 14,
   "metadata": {
    "collapsed": false
   },
   "outputs": [],
   "source": [
    "with open(\"names_file.txt\") as f:\n",
    "    cnt= Counter()\n",
    "    for line in f:\n",
    "        cnt[line.strip()]+=1 "
   ]
  },
  {
   "cell_type": "code",
   "execution_count": 15,
   "metadata": {
    "collapsed": false
   },
   "outputs": [
    {
     "name": "stdout",
     "output_type": "stream",
     "text": [
      "Counter({'Xiye': 7, 'Mystic': 7, '957': 7, 'Condi': 7, 'Zero': 7, 'Ben': 7})\n"
     ]
    }
   ],
   "source": [
    "print(cnt)"
   ]
  },
  {
   "cell_type": "markdown",
   "metadata": {},
   "source": [
    "## Excercise 23\n",
    "Given two .txt files that have lists of numbers in them, find the numbers that are overlapping. \n",
    "One \".txt\" file has a list of all prime numbers under 1000, and the other \".txt\" file has a list of happy numbers up to 1000.\n",
    "\n",
    "(If you forgot, prime numbers are numbers that can’t be divided by any other number. And yes, happy numbers are a real thing in mathematics - you can look it up on Wikipedia. The explanation is easier with an example, which I will describe below.)"
   ]
  },
  {
   "cell_type": "code",
   "execution_count": 26,
   "metadata": {
    "collapsed": false
   },
   "outputs": [],
   "source": [
    "prim=[]\n",
    "with open(\"primenumbers.txt\") as prim_file:\n",
    "    for line in prim_file:\n",
    "        prim.append(line)\n",
    "\n",
    "happy=[]\n",
    "with open(\"happynumbers.txt\") as prim_file:\n",
    "    for line in prim_file:\n",
    "        happy.append(line)\n",
    "    "
   ]
  },
  {
   "cell_type": "code",
   "execution_count": 34,
   "metadata": {
    "collapsed": false
   },
   "outputs": [],
   "source": [
    "overlap= [elem.strip() for elem in prim if elem in happy ]"
   ]
  },
  {
   "cell_type": "code",
   "execution_count": 35,
   "metadata": {
    "collapsed": false
   },
   "outputs": [
    {
     "data": {
      "text/plain": [
       "['7',\n",
       " '13',\n",
       " '19',\n",
       " '23',\n",
       " '31',\n",
       " '79',\n",
       " '97',\n",
       " '103',\n",
       " '109',\n",
       " '139',\n",
       " '167',\n",
       " '193',\n",
       " '239',\n",
       " '263',\n",
       " '293',\n",
       " '313',\n",
       " '331',\n",
       " '367',\n",
       " '379',\n",
       " '383',\n",
       " '397',\n",
       " '487',\n",
       " '563',\n",
       " '617',\n",
       " '653',\n",
       " '673',\n",
       " '683',\n",
       " '709',\n",
       " '739',\n",
       " '761',\n",
       " '881',\n",
       " '907',\n",
       " '937']"
      ]
     },
     "execution_count": 35,
     "metadata": {},
     "output_type": "execute_result"
    }
   ],
   "source": [
    "overlap"
   ]
  },
  {
   "cell_type": "markdown",
   "metadata": {},
   "source": [
    "## Excercise 24\n",
    "This exercise is Part 1 of 4 of the Tic Tac Toe exercise series. \n",
    "\n",
    "Time for some fake graphics! Let’s say we want to draw game boards that look like this:"
   ]
  },
  {
   "cell_type": "markdown",
   "metadata": {},
   "source": [
    " --- --- --- \n",
    "|   |   |   | \n",
    " --- --- ---  \n",
    "|   |   |   | \n",
    " --- --- ---  \n",
    "|   |   |   | \n",
    " --- --- --- "
   ]
  },
  {
   "cell_type": "markdown",
   "metadata": {},
   "source": [
    "This one is 3x3 (like in tic tac toe). Obviously, they come in many other sizes (8x8 for chess, 19x19 for Go, and many more).\n",
    "\n",
    "Ask the user what size game board they want to draw, and draw it for them to the screen using Python’s print statement.\n",
    "\n",
    "Remember that in Python 3, printing to the screen is accomplished by\n",
    "\n",
    "  print(\"Thing to show on screen\")"
   ]
  },
  {
   "cell_type": "code",
   "execution_count": 44,
   "metadata": {
    "collapsed": false
   },
   "outputs": [
    {
     "name": "stdout",
     "output_type": "stream",
     "text": [
      "What size do you want? Give one number plz: 5\n"
     ]
    }
   ],
   "source": [
    "size= int(input(\"What size do you want? Give one number plz: \"))"
   ]
  },
  {
   "cell_type": "code",
   "execution_count": 45,
   "metadata": {
    "collapsed": false
   },
   "outputs": [
    {
     "name": "stdout",
     "output_type": "stream",
     "text": [
      " --- --- --- --- ---\n",
      "|   |   |   |   |   |   \n",
      " --- --- --- --- ---\n",
      "|   |   |   |   |   |   \n",
      " --- --- --- --- ---\n",
      "|   |   |   |   |   |   \n",
      " --- --- --- --- ---\n",
      "|   |   |   |   |   |   \n",
      " --- --- --- --- ---\n",
      "|   |   |   |   |   |   \n",
      " --- --- --- --- ---\n"
     ]
    }
   ],
   "source": [
    "for i in range(size):\n",
    "    print(\" ---\"* size)\n",
    "    print(\"|   \"* (size+1))\n",
    "    \n",
    "print(\" ---\"* size)\n"
   ]
  },
  {
   "cell_type": "markdown",
   "metadata": {},
   "source": [
    "## Excercise 25\n",
    "In a previous exercise, we’ve written a program that “knows” a number and asks a user to guess it.\n",
    "\n",
    "This time, we’re going to do exactly the opposite. You, the user, will have in your head a number between 0 and 100. The program will guess a number, and you, the user, will say whether it is too high, too low, or your number.\n",
    "\n",
    "At the end of this exchange, your program should print out how many guesses it took to get your number.\n",
    "\n",
    "As the writer of this program, you will have to choose how your program will strategically guess. A naive strategy can be to simply start the guessing at 1, and keep going (2, 3, 4, etc.) until you hit the number. But that’s not an optimal guessing strategy. An alternate strategy might be to guess 50 (right in the middle of the range), and then increase / decrease by 1 as needed. After you’ve written the program, try to find the optimal strategy! (We’ll talk about what is the optimal one next week with the solution.)"
   ]
  },
  {
   "cell_type": "code",
   "execution_count": 88,
   "metadata": {
    "collapsed": true
   },
   "outputs": [],
   "source": [
    "import numpy as np"
   ]
  },
  {
   "cell_type": "code",
   "execution_count": 91,
   "metadata": {
    "collapsed": false
   },
   "outputs": [],
   "source": [
    "current_guess= np.random.randint(1,100)\n",
    "min_= 1\n",
    "max_=100\n",
    "\n",
    "def guessnumber(judge):\n",
    "    global current_guess,min_,max_\n",
    "    if (judge==\"higher\"):\n",
    "        max_=current_guess-1\n",
    "    elif(judge==\"lower\"):\n",
    "        min_=current_guess+1\n",
    "    else:\n",
    "        print(\"Bingo!\")\n",
    "    print(min_, max_)\n",
    "    current_guess= np.random.randint(min_, max_)\n",
    "    return current_guess\n",
    "\n",
    "while(judge!=\"right\"):\n",
    "    print(current_guess)\n",
    "    judge= input(\"Is this number higher or lower? Or right?\")\n",
    "    guessnumber(judge)"
   ]
  },
  {
   "cell_type": "code",
   "execution_count": 86,
   "metadata": {
    "collapsed": true
   },
   "outputs": [],
   "source": []
  },
  {
   "cell_type": "code",
   "execution_count": null,
   "metadata": {
    "collapsed": true
   },
   "outputs": [],
   "source": []
  }
 ],
 "metadata": {
  "kernelspec": {
   "display_name": "Python 3",
   "language": "python",
   "name": "python3"
  },
  "language_info": {
   "codemirror_mode": {
    "name": "ipython",
    "version": 3
   },
   "file_extension": ".py",
   "mimetype": "text/x-python",
   "name": "python",
   "nbconvert_exporter": "python",
   "pygments_lexer": "ipython3",
   "version": "3.6.2"
  }
 },
 "nbformat": 4,
 "nbformat_minor": 2
}
