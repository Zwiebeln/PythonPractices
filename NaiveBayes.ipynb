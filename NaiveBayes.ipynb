{
 "cells": [
  {
   "cell_type": "code",
   "execution_count": 68,
   "metadata": {
    "collapsed": false
   },
   "outputs": [],
   "source": [
    "import jieba\n",
    "from collections import Counter\n",
    "import math\n",
    "#from tabulate import tabulate"
   ]
  },
  {
   "cell_type": "code",
   "execution_count": 7,
   "metadata": {
    "collapsed": true
   },
   "outputs": [],
   "source": [
    "train_pos= '/tensorflow/pos_train.txt'\n",
    "train_neg= '/tensorflow/neg_train.txt'\n",
    "test_pos= '/tensorflow/pos_test.txt'\n",
    "test_neg= '/tensorflow/neg_test.txt'"
   ]
  },
  {
   "cell_type": "code",
   "execution_count": 14,
   "metadata": {
    "collapsed": true
   },
   "outputs": [],
   "source": [
    "#返回一个Counter，里面装有filepath里所有word的词频\n",
    "def initLM(filepath):\n",
    "    lm=Counter()\n",
    "    with open(filepath) as f:\n",
    "        for line in f:\n",
    "            words= jieba.cut(line.strip())\n",
    "            for word in words:\n",
    "                if word >=u'\\u4e00' and word<=u'\\u9fff':\n",
    "                    lm[word]+=1\n",
    "    return lm"
   ]
  },
  {
   "cell_type": "code",
   "execution_count": 61,
   "metadata": {
    "collapsed": false
   },
   "outputs": [],
   "source": [
    "lm_pos=initLM(train_pos)\n",
    "lm_neg= initLM(train_neg)"
   ]
  },
  {
   "cell_type": "code",
   "execution_count": 19,
   "metadata": {
    "collapsed": false
   },
   "outputs": [],
   "source": [
    "#根据Counter里已有的pos和neg中出现每个词的概率来判断整个句子是pos还是neg\n",
    "def sentenceEmotion(sentence, lm_pos, lm_neg):\n",
    "    pos_freq= float(0)\n",
    "    neg_freq= float(0)\n",
    "    for word in jieba.cut(sentence.strip()):\n",
    "        if word >=u'\\u4e00' and word<=u'\\u9fff':\n",
    "            if word in lm_pos:\n",
    "                pos_freq += math.log(lm_pos[word])\n",
    "            elif word in lm_neg:\n",
    "                neg_freq += math.log(lm_neg[word])\n",
    "    return pos_freq, neg_freq"
   ]
  },
  {
   "cell_type": "code",
   "execution_count": 62,
   "metadata": {
    "collapsed": false,
    "scrolled": true
   },
   "outputs": [],
   "source": [
    "#给一个全是（pos||neg）句子的文档，看（有多少能句子被判断为pos，多少被误判为neg||有多少能句子被判断为neg，多少被误判为pos）\n",
    "def judgeEmotion(testFile):\n",
    "    line_no=0\n",
    "    posFromTest=0\n",
    "    negFromTest=0\n",
    "    with open(testFile) as f:\n",
    "            for line in f:\n",
    "                line_no +=1\n",
    "                pos, neg= sentenceEmotion(line, lm_pos, lm_neg)\n",
    "                if pos>neg:\n",
    "                    posFromTest +=1\n",
    "                   # print line\n",
    "                    # print \"positive emotion\"\n",
    "                else:\n",
    "                    negFromTest +=1\n",
    "                   # print line\n",
    "                   # print \"negative\"\n",
    "    return posFromTest, negFromTest,line_no"
   ]
  },
  {
   "cell_type": "code",
   "execution_count": 51,
   "metadata": {
    "collapsed": false
   },
   "outputs": [
    {
     "name": "stdout",
     "output_type": "stream",
     "text": [
      "(4947, 18, 4965)\n"
     ]
    }
   ],
   "source": [
    "TP, FN, TrueTotal = judgeEmotion(test_pos)\n",
    "print (judgeEmotion(test_pos))"
   ]
  },
  {
   "cell_type": "code",
   "execution_count": 52,
   "metadata": {
    "collapsed": false
   },
   "outputs": [
    {
     "name": "stdout",
     "output_type": "stream",
     "text": [
      "(5561, 12, 5573)\n"
     ]
    }
   ],
   "source": [
    "TN, FP, FalseTotal = judgeEmotion(test_neg)\n",
    "print (judgeEmotion(test_neg))"
   ]
  },
  {
   "cell_type": "code",
   "execution_count": 60,
   "metadata": {
    "collapsed": false
   },
   "outputs": [
    {
     "name": "stdout",
     "output_type": "stream",
     "text": [
      "Accuracy: 0.997153\n",
      "ErrorRate: 0.002847\n",
      "TruePositiveRate: 0.996375\n",
      "TrueNegativeRate: 0.997847\n",
      "Specificity: 0.997847\n",
      "Precision: 0.996375\n",
      "Prevelance: 0.471152\n"
     ]
    }
   ],
   "source": [
    "Accuracy = float((TP+TN))/(TrueTotal+FalseTotal)\n",
    "ErrorRate = float((FP+FN))/(TrueTotal+FalseTotal)\n",
    "TruePositiveRate =float(TP)/(TrueTotal)\n",
    "TrueNegativeRate =float(TN)/(FalseTotal)\n",
    "Specificity = float(TN)/FalseTotal\n",
    "Precision = float(TP)/TrueTotal\n",
    "Prevelance= float(TrueTotal)/(TrueTotal+FalseTotal)\n",
    "\n",
    "print \"Accuracy: %f\" % Accuracy\n",
    "print \"ErrorRate: %f\" % ErrorRate\n",
    "print \"TruePositiveRate: %f\"% TruePositiveRate\n",
    "print \"TrueNegativeRate: %f\"% TrueNegativeRate\n",
    "print \"Specificity: %f\"% Specificity\n",
    "print \"Precision: %f\" %Precision\n",
    "print \"Prevelance: %f\" % Prevelance"
   ]
  }
 ],
 "metadata": {
  "kernelspec": {
   "display_name": "Python 2",
   "language": "python",
   "name": "python2"
  },
  "language_info": {
   "codemirror_mode": {
    "name": "ipython",
    "version": 2
   },
   "file_extension": ".py",
   "mimetype": "text/x-python",
   "name": "python",
   "nbconvert_exporter": "python",
   "pygments_lexer": "ipython2",
   "version": "2.7.6"
  }
 },
 "nbformat": 4,
 "nbformat_minor": 2
}
