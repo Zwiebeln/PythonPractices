{
 "cells": [
  {
   "cell_type": "code",
   "execution_count": 12,
   "metadata": {},
   "outputs": [],
   "source": [
    "#https://stackoverflow.com/questions/27801409/get-field-values-from-rpy2-random-forest-object"
   ]
  },
  {
   "cell_type": "code",
   "execution_count": 21,
   "metadata": {},
   "outputs": [],
   "source": [
    "from rpy2.robjects import r, pandas2ri"
   ]
  },
  {
   "cell_type": "code",
   "execution_count": 22,
   "metadata": {},
   "outputs": [],
   "source": [
    "import pandas as pd\n",
    "import rpy2.robjects as robjects\n",
    "#import pandas.rpy.common as com\n",
    "import numpy as np\n",
    "r = robjects.r"
   ]
  },
  {
   "cell_type": "code",
   "execution_count": 15,
   "metadata": {},
   "outputs": [],
   "source": [
    "pandas2ri.activate()"
   ]
  },
  {
   "cell_type": "code",
   "execution_count": 23,
   "metadata": {},
   "outputs": [],
   "source": [
    "#df_iris = com.load_data('iris')\n",
    "#from rpy2.robjects import r\n",
    "#r.data('iris')\n",
    "#df_iris = pandas2ri.ri2py(r[name])"
   ]
  },
  {
   "cell_type": "code",
   "execution_count": 24,
   "metadata": {},
   "outputs": [],
   "source": [
    "r.library(\"randomForest\")\n",
    "\n",
    "# generate a pandas dataframe with random numbers\n",
    "df = pd.DataFrame(data=np.random.rand(100, 30), columns=[\"a{}\".format(i) for i in range(30)])\n",
    "df[\"b\"] = np.random.randint(2, size=100)"
   ]
  },
  {
   "cell_type": "code",
   "execution_count": 25,
   "metadata": {},
   "outputs": [],
   "source": [
    "# create r objects\n",
    "X = pandas2ri.py2ri(df.drop(\"b\", axis=1))\n",
    "Y = robjects.FactorVector(df.b)\n",
    "\n",
    "# build rf model\n",
    "rf = r.randomForest(X, Y)\n"
   ]
  },
  {
   "cell_type": "code",
   "execution_count": 26,
   "metadata": {},
   "outputs": [
    {
     "name": "stdout",
     "output_type": "stream",
     "text": [
      "$importance\n",
      "    MeanDecreaseGini\n",
      "a0         1.3048695\n",
      "a1         1.7509219\n",
      "a2         1.6052520\n",
      "a3         1.1593374\n",
      "a4         1.8677618\n",
      "a5         1.5251754\n",
      "a6         2.1628193\n",
      "a7         1.5121308\n",
      "a8         1.6426542\n",
      "a9         2.4357980\n",
      "a10        1.8455787\n",
      "a11        1.5335182\n",
      "a12        1.5743323\n",
      "a13        0.9342245\n",
      "a14        1.1846135\n",
      "a15        1.2081214\n",
      "a16        1.0885654\n",
      "a17        1.7519725\n",
      "a18        1.8769001\n",
      "a19        1.6890457\n",
      "a20        2.3216790\n",
      "a21        1.4300948\n",
      "a22        2.2799820\n",
      "a23        1.9606146\n",
      "a24        1.7954326\n",
      "a25        1.4847133\n",
      "a26        1.2699065\n",
      "a27        1.5651010\n",
      "a28        1.5237725\n",
      "a29        1.2992709\n",
      "\n",
      "\n"
     ]
    }
   ],
   "source": [
    "print (rf.rx(\"importance\"))"
   ]
  },
  {
   "cell_type": "code",
   "execution_count": 20,
   "metadata": {},
   "outputs": [
    {
     "name": "stdout",
     "output_type": "stream",
     "text": [
      "[[1]]\n",
      " [1] \"a0\"  \"a1\"  \"a2\"  \"a3\"  \"a4\"  \"a5\"  \"a6\"  \"a7\"  \"a8\"  \"a9\"  \"a10\" \"a11\"\n",
      "[13] \"a12\" \"a13\" \"a14\" \"a15\" \"a16\" \"a17\" \"a18\" \"a19\" \"a20\" \"a21\" \"a22\" \"a23\"\n",
      "[25] \"a24\" \"a25\" \"a26\" \"a27\" \"a28\" \"a29\"\n",
      "\n",
      "[[2]]\n",
      "[1] \"MeanDecreaseGini\"\n",
      "\n",
      "\n"
     ]
    }
   ],
   "source": [
    "print (r.dimnames(rf[8]))"
   ]
  },
  {
   "cell_type": "code",
   "execution_count": null,
   "metadata": {},
   "outputs": [],
   "source": []
  }
 ],
 "metadata": {
  "kernelspec": {
   "display_name": "Python 3",
   "language": "python",
   "name": "python3"
  },
  "language_info": {
   "codemirror_mode": {
    "name": "ipython",
    "version": 3
   },
   "file_extension": ".py",
   "mimetype": "text/x-python",
   "name": "python",
   "nbconvert_exporter": "python",
   "pygments_lexer": "ipython3",
   "version": "3.6.5"
  }
 },
 "nbformat": 4,
 "nbformat_minor": 2
}
