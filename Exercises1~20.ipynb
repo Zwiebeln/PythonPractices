{
 "cells": [
  {
   "cell_type": "markdown",
   "metadata": {},
   "source": [
    "http://www.practicepython.org"
   ]
  },
  {
   "cell_type": "markdown",
   "metadata": {},
   "source": [
    "## Excercise1"
   ]
  },
  {
   "cell_type": "markdown",
   "metadata": {},
   "source": [
    "Create a program that asks the user to enter their name and their age. Print out a message addressed to them that tells them the year that they will turn 100 years old."
   ]
  },
  {
   "cell_type": "code",
   "execution_count": 14,
   "metadata": {
    "collapsed": false
   },
   "outputs": [
    {
     "name": "stdout",
     "output_type": "stream",
     "text": [
      "What's your name Xin\n"
     ]
    }
   ],
   "source": [
    "name= input(\"What's your name \")"
   ]
  },
  {
   "cell_type": "code",
   "execution_count": 15,
   "metadata": {
    "collapsed": false
   },
   "outputs": [
    {
     "name": "stdout",
     "output_type": "stream",
     "text": [
      "How old are you 10\n"
     ]
    }
   ],
   "source": [
    "age = int( input(\"How old are you \"))"
   ]
  },
  {
   "cell_type": "code",
   "execution_count": 16,
   "metadata": {
    "collapsed": false
   },
   "outputs": [],
   "source": [
    "birth_year = 2017-age"
   ]
  },
  {
   "cell_type": "code",
   "execution_count": 19,
   "metadata": {
    "collapsed": true
   },
   "outputs": [],
   "source": [
    "hundred = str(birth_year+100)"
   ]
  },
  {
   "cell_type": "code",
   "execution_count": 20,
   "metadata": {
    "collapsed": false
   },
   "outputs": [
    {
     "name": "stdout",
     "output_type": "stream",
     "text": [
      "my name is Xin You will be 100 years old at 2107\n"
     ]
    }
   ],
   "source": [
    "print(\"my name is \" + name + \" You will be 100 years old at \" + hundred)"
   ]
  },
  {
   "cell_type": "markdown",
   "metadata": {},
   "source": [
    "## Excercise2"
   ]
  },
  {
   "cell_type": "markdown",
   "metadata": {},
   "source": [
    "Ask the user for a number. Depending on whether the number is even or odd, print out an appropriate message to the user. Hint: how does an even / odd number react differently when divided by 2?"
   ]
  },
  {
   "cell_type": "code",
   "execution_count": 27,
   "metadata": {
    "collapsed": false
   },
   "outputs": [
    {
     "name": "stdout",
     "output_type": "stream",
     "text": [
      "Please enter a number 5\n"
     ]
    }
   ],
   "source": [
    "number= int(input(\"Please enter a number \"))"
   ]
  },
  {
   "cell_type": "code",
   "execution_count": 28,
   "metadata": {
    "collapsed": false
   },
   "outputs": [
    {
     "name": "stdout",
     "output_type": "stream",
     "text": [
      "odd\n"
     ]
    }
   ],
   "source": [
    "if number%2== 1:\n",
    "    print(\"odd\")\n",
    "else:\n",
    "    print (\"even\")    "
   ]
  },
  {
   "cell_type": "markdown",
   "metadata": {},
   "source": [
    "## Excercise3\n",
    "Take a list, say for example this one:\n",
    "\n",
    "  a = [1, 1, 2, 3, 5, 8, 13, 21, 34, 2, 55, 89]\n",
    "and write a program that prints out all the elements of the list that are less than 5."
   ]
  },
  {
   "cell_type": "code",
   "execution_count": 42,
   "metadata": {
    "collapsed": false
   },
   "outputs": [
    {
     "name": "stdout",
     "output_type": "stream",
     "text": [
      "1 \n",
      "1 \n",
      "2 \n",
      "3 \n",
      "2 \n"
     ]
    }
   ],
   "source": [
    "a=[1, 1, 2, 3, 5, 8, 13, 21, 34, 2, 55, 89]\n",
    "length=len(a)\n",
    "for i in range(length):\n",
    "    if a[i-1] < 5:\n",
    "        print (str(a[i-1])+ \" \")"
   ]
  },
  {
   "cell_type": "markdown",
   "metadata": {},
   "source": [
    "## Excercise4\n",
    "Create a program that asks the user for a number and then prints out a list of all the divisors of that number. (If you don’t know what a divisor is, it is a number that divides evenly into another number. For example, 13 is a divisor of 26 because 26 / 13 has no remainder.)"
   ]
  },
  {
   "cell_type": "code",
   "execution_count": 46,
   "metadata": {
    "collapsed": false
   },
   "outputs": [
    {
     "name": "stdout",
     "output_type": "stream",
     "text": [
      "Please give a integer 100\n",
      "[1, 2, 4, 5, 10, 20, 25, 50, 100]\n"
     ]
    }
   ],
   "source": [
    "number= int(input(\"Please give a integer \"))\n",
    "divisor=[]\n",
    "for i in range(1,number+1):\n",
    "    \n",
    "    if number%i==0:\n",
    "        divisor.append(i)\n",
    "print (divisor)\n",
    "    "
   ]
  },
  {
   "cell_type": "code",
   "execution_count": 54,
   "metadata": {
    "collapsed": false
   },
   "outputs": [
    {
     "name": "stdout",
     "output_type": "stream",
     "text": [
      "Please give a integer 100\n",
      "1\n",
      "2\n",
      "4\n",
      "5\n",
      "10\n",
      "20\n",
      "25\n",
      "50\n",
      "100\n"
     ]
    }
   ],
   "source": [
    "number= int(input(\"Please give a integer \"))\n",
    "def printDivisor(number):\n",
    "    i=1\n",
    "    while i<= number:\n",
    "        if number%i==0:\n",
    "            print (str(i)+ \"\") \n",
    "        i=i+1\n",
    "printDivisor(100)"
   ]
  },
  {
   "cell_type": "markdown",
   "metadata": {},
   "source": [
    "## Excercise5\n",
    "Take two lists, say for example these two:\n",
    "\n",
    "  a = [1, 1, 2, 3, 5, 8, 13, 21, 34, 55, 89]\n",
    "  \n",
    "  b = [1, 2, 3, 4, 5, 6, 7, 8, 9, 10, 11, 12, 13]\n",
    "  \n",
    "and write a program that returns a list that contains only the elements that are common between the lists (without duplicates). Make sure your program works on two lists of different sizes."
   ]
  },
  {
   "cell_type": "code",
   "execution_count": 57,
   "metadata": {
    "collapsed": false
   },
   "outputs": [
    {
     "name": "stdout",
     "output_type": "stream",
     "text": [
      "[1, 1, 2, 3, 5, 8, 13]\n"
     ]
    }
   ],
   "source": [
    "a = [1, 13, 2, 3, 8,  21, 34, 5, 55, 1, 89]\n",
    "b = [2, 3, 1, 6, 7, 8, 5, 10, 4, 11, 12, 9, 13]\n",
    "a= sorted(a)\n",
    "b= sorted(b)\n",
    "if(len(a)>=len(b)):\n",
    "    longer= a\n",
    "    shorter= b\n",
    "else:\n",
    "    longer=b\n",
    "    shorter=a\n",
    "        \n",
    "common=[]\n",
    "for i in range(len(longer)):\n",
    "    for j in range(len(shorter)):\n",
    "        if shorter[j]== longer[i]:\n",
    "            common.append(shorter[j])\n",
    "\n",
    "print (common)"
   ]
  },
  {
   "cell_type": "markdown",
   "metadata": {},
   "source": [
    "## Excercise6\n",
    "Ask the user for a string and print out whether this string is a palindrome or not. (A palindrome is a string that reads the same forwards and backwards.)"
   ]
  },
  {
   "cell_type": "code",
   "execution_count": 68,
   "metadata": {
    "collapsed": false
   },
   "outputs": [
    {
     "name": "stdout",
     "output_type": "stream",
     "text": [
      "Give a palindrome plz: elems\n",
      "5\n",
      "False\n"
     ]
    }
   ],
   "source": [
    "eingabe= input(\"Give a palindrome plz: \")\n",
    "palindrome= True\n",
    "for i in range (len(eingabe)):\n",
    "    other_side= len(eingabe)-i-1\n",
    "    if eingabe[i] != eingabe[other_side]:\n",
    "        palindrome= False\n",
    "         \n",
    "print (palindrome)"
   ]
  },
  {
   "cell_type": "markdown",
   "metadata": {},
   "source": [
    "## Excercise7\n",
    "<p style='color:red'>Attencion por favor!</p> \n",
    "Let’s say I give you a list saved in a variable: a = [1, 4, 9, 16, 25, 36, 49, 64, 81, 100]. Write one line of Python that takes this list a and makes a new list that has only the even elements of this list in it."
   ]
  },
  {
   "cell_type": "code",
   "execution_count": 69,
   "metadata": {
    "collapsed": true
   },
   "outputs": [],
   "source": [
    "a = [1, 4, 9, 16, 25, 36, 49, 64, 81, 100]\n",
    "a_new= [element for element in a if element%2==0]"
   ]
  },
  {
   "cell_type": "code",
   "execution_count": 71,
   "metadata": {
    "collapsed": false
   },
   "outputs": [
    {
     "name": "stdout",
     "output_type": "stream",
     "text": [
      "[4, 16, 36, 64, 100]\n"
     ]
    }
   ],
   "source": [
    "print (a_new)"
   ]
  },
  {
   "cell_type": "markdown",
   "metadata": {},
   "source": [
    "## Excercise8\n",
    "Make a two-player Rock-Paper-Scissors game. (Hint: Ask for player plays (using input), compare them, print out a message of congratulations to the winner, and ask if the players want to start a new game)"
   ]
  },
  {
   "cell_type": "code",
   "execution_count": 80,
   "metadata": {
    "collapsed": false
   },
   "outputs": [
    {
     "name": "stdout",
     "output_type": "stream",
     "text": [
      "plz input r, p or s: r\n",
      "plz input r,p or s: p\n",
      "Winner is player2\n"
     ]
    }
   ],
   "source": [
    "player1= input(\"plz input r, p or s: \")\n",
    "player2= input(\"plz input r,p or s: \")\n",
    "win = {\"p\":\"r\",\"r\":\"s\",\"s\":\"p\"}\n",
    "if not(player1 in win and player2 in win):\n",
    "    print(\"invalid input\")\n",
    "elif(player1== player2):\n",
    "    print(\"tie\")\n",
    "else:\n",
    "    print (\"Winner is player \" + \"player 1\" if win[player1] == player2 else \"Winner is player2\")\n",
    "    "
   ]
  },
  {
   "cell_type": "markdown",
   "metadata": {},
   "source": [
    "Python dictionary: https://www.python-kurs.eu/dictionaries.php"
   ]
  },
  {
   "cell_type": "markdown",
   "metadata": {},
   "source": [
    "## Excercise9\n",
    "Generate a random number between 1 and 9 (including 1 and 9). Ask the user to guess the number, then tell them whether they guessed too low, too high, or exactly right. (Hint: remember to use the user input lessons from the very first exercise)"
   ]
  },
  {
   "cell_type": "code",
   "execution_count": 81,
   "metadata": {
    "collapsed": true
   },
   "outputs": [],
   "source": [
    "import numpy as np"
   ]
  },
  {
   "cell_type": "code",
   "execution_count": 89,
   "metadata": {
    "collapsed": false
   },
   "outputs": [
    {
     "name": "stdout",
     "output_type": "stream",
     "text": [
      "please enter a number between 1 and 9 (including 1 and 9): 6\n",
      "lower\n",
      "The random number is 7\n"
     ]
    }
   ],
   "source": [
    "random= np.random.randint(1,9)\n",
    "user_input= int(input(\"please enter a number between 1 and 9 (including 1 and 9): \"))\n",
    "if (random== user_input):\n",
    "    print(\"Exactly right!\")\n",
    "elif(random> user_input):\n",
    "    print (\"lower\")\n",
    "else:\n",
    "    print(\"higher\")\n",
    "    \n",
    "print(\"The random number is \"+ str(random))"
   ]
  },
  {
   "cell_type": "markdown",
   "metadata": {},
   "source": [
    "## Excercise10\n",
    "<p style='color:red'>Attencion por favor!</p> \n",
    "Take two lists, say for example these two:\n",
    "\n",
    "\ta = [1, 1, 2, 3, 5, 8, 13, 21, 34, 55, 89]\n",
    "\tb = [1, 2, 3, 4, 5, 6, 7, 8, 9, 10, 11, 12, 13]\n",
    "and write a program that returns a list that contains only the elements that are common between the lists (without duplicates). Make sure your program works on two lists of different sizes. Write this in one line of Python using at least one list comprehension. (Hint: Remember list comprehensions from Exercise 7).\n",
    "\n",
    "The original formulation of this exercise said to write the solution using one line of Python, but a few readers pointed out that this was impossible to do without using sets that I had not yet discussed on the blog, so you can either choose to use the original directive and read about the set command in Python 3.3, or try to implement this on your own and use at least one list comprehension in the solution."
   ]
  },
  {
   "cell_type": "code",
   "execution_count": 93,
   "metadata": {
    "collapsed": true
   },
   "outputs": [],
   "source": [
    "a = [1, 1, 2, 3, 5, 8, 13, 21, 34, 55, 89]\n",
    "b = [1, 2, 3, 4, 5, 6, 7, 8, 9, 10, 11, 12, 13]\n",
    "new_a= [element for element in a if element in b]"
   ]
  },
  {
   "cell_type": "code",
   "execution_count": 94,
   "metadata": {
    "collapsed": false
   },
   "outputs": [
    {
     "name": "stdout",
     "output_type": "stream",
     "text": [
      "[1, 1, 2, 3, 5, 8, 13]\n"
     ]
    }
   ],
   "source": [
    "print (new_a)"
   ]
  },
  {
   "cell_type": "markdown",
   "metadata": {
    "collapsed": true
   },
   "source": [
    "## Excercise11\n",
    "Ask the user for a number and determine whether the number is prime or not. (For those who have forgotten, a prime number is a number that has no divisors.). You can (and should!) use your answer to Exercise 4 to help you. Take this opportunity to practice using functions, described below."
   ]
  },
  {
   "cell_type": "code",
   "execution_count": 12,
   "metadata": {
    "collapsed": false
   },
   "outputs": [
    {
     "name": "stdout",
     "output_type": "stream",
     "text": [
      "False\n"
     ]
    }
   ],
   "source": [
    "num= 21\n",
    "prime= True\n",
    "for i in range(2,num): #2~18#\n",
    "    if num%i==0:\n",
    "        prime= False\n",
    "        \n",
    "print (prime)"
   ]
  },
  {
   "cell_type": "markdown",
   "metadata": {},
   "source": [
    "## Excercise12\n",
    "Write a program that takes a list of numbers (for example, a = [5, 10, 15, 20, 25]) and makes a new list of only the first and last elements of the given list. For practice, write this code inside a function."
   ]
  },
  {
   "cell_type": "code",
   "execution_count": 13,
   "metadata": {
    "collapsed": false
   },
   "outputs": [
    {
     "name": "stdout",
     "output_type": "stream",
     "text": [
      "[5, 25]\n"
     ]
    }
   ],
   "source": [
    "a = [5,10,15,20,25]\n",
    "b= [a[0], a[len(a)-1]]\n",
    "print(b)"
   ]
  },
  {
   "cell_type": "markdown",
   "metadata": {},
   "source": [
    "## Excercise13\n",
    "Write a program that asks the user how many Fibonnaci numbers to generate and then generates them. Take this opportunity to think about how you can use functions. Make sure to ask the user to enter the number of numbers in the sequence to generate.(Hint: The Fibonnaci seqence is a sequence of numbers where the next number in the sequence is the sum of the previous two numbers in the sequence. The sequence looks like this: 1, 1, 2, 3, 5, 8, 13, …)"
   ]
  },
  {
   "cell_type": "code",
   "execution_count": 53,
   "metadata": {
    "collapsed": false
   },
   "outputs": [
    {
     "name": "stdout",
     "output_type": "stream",
     "text": [
      "How many Fibo numbers do you want? 7\n",
      "1\n",
      "1\n",
      "2\n",
      "3\n",
      "5\n",
      "8\n",
      "13\n"
     ]
    }
   ],
   "source": [
    "# Recursive\n",
    "num = int(input(\"How many Fibo numbers do you want? \"))\n",
    "def Fibonacci(num):\n",
    "    if(num>2):\n",
    "        return Fibonacci(num-1)+Fibonacci(num-2)\n",
    "    else:\n",
    "        return 1\n",
    "\n",
    "for i in range(1,num+1):\n",
    "    print (str(Fibonacci(i)))"
   ]
  },
  {
   "cell_type": "code",
   "execution_count": 56,
   "metadata": {
    "collapsed": false
   },
   "outputs": [
    {
     "name": "stdout",
     "output_type": "stream",
     "text": [
      "How many Fibo numbers do you want? 8\n",
      "1\n",
      "1\n",
      "2\n",
      "3\n",
      "5\n",
      "8\n",
      "13\n",
      "21\n"
     ]
    }
   ],
   "source": [
    "# Iterative\n",
    "num = int(input(\"How many Fibo numbers do you want? \"))\n",
    "def Fibonacci(num):\n",
    "    a, b = 0, 1\n",
    "    for i in range(0, num):\n",
    "        a, b = b, a + b\n",
    "    return a\n",
    "for i in range(1,num+1):\n",
    "    print (str(Fibonacci(i)))"
   ]
  },
  {
   "cell_type": "markdown",
   "metadata": {},
   "source": [
    "## Excercise14\n",
    "Write a program (function!) that takes a list and returns a new list that contains all the elements of the first list minus all the duplicates."
   ]
  },
  {
   "cell_type": "code",
   "execution_count": 69,
   "metadata": {
    "collapsed": false
   },
   "outputs": [
    {
     "name": "stdout",
     "output_type": "stream",
     "text": [
      "[5, 10, 15, 20, 25, 30]\n"
     ]
    }
   ],
   "source": [
    "a = [5,10,15,20,25,15,30,5]\n",
    "def removeDuplicates(list):\n",
    "    new_list=[]\n",
    "    for i in range(len(list)):\n",
    "        if (list[i]) not in new_list:\n",
    "            new_list.append(list[i])\n",
    "    return new_list\n",
    "print(removeDuplicates(a))"
   ]
  },
  {
   "cell_type": "markdown",
   "metadata": {},
   "source": [
    "## Excercise15\n",
    "<p style='color:red'>Attencion por favor!</p> \n",
    "Write a program (using functions!) that asks the user for a long string containing multiple words. Print back to the user the same string, except with the words in backwards order. \n",
    "\n",
    "For example, say I type the string:\n",
    "  My name is Michele\n",
    "  \n",
    "Then I would see the string:\n",
    "  Michele is name My\n",
    "shown back to me."
   ]
  },
  {
   "cell_type": "code",
   "execution_count": 72,
   "metadata": {
    "collapsed": false
   },
   "outputs": [
    {
     "name": "stdout",
     "output_type": "stream",
     "text": [
      "Plz write a sentenceich bin schnappi\n",
      "['schnappi', 'bin', 'ich']\n"
     ]
    }
   ],
   "source": [
    "input_str= input(\"Plz write a sentence\")\n",
    "la= input_str.split(' ')\n",
    "result= la[::-1]\n",
    "print(result)"
   ]
  },
  {
   "cell_type": "markdown",
   "metadata": {},
   "source": [
    "### meaning of [::]: [start: stop: step]"
   ]
  },
  {
   "cell_type": "markdown",
   "metadata": {},
   "source": [
    "## Excercise16\n",
    "Write a password generator in Python. Be creative with how you generate passwords - strong passwords have a mix of lowercase letters, uppercase letters, numbers, and symbols. The passwords should be random, generating a new password every time the user asks for a new password. Include your run-time code in a main method."
   ]
  },
  {
   "cell_type": "code",
   "execution_count": 73,
   "metadata": {
    "collapsed": true
   },
   "outputs": [],
   "source": [
    "import numpy as np"
   ]
  },
  {
   "cell_type": "code",
   "execution_count": 112,
   "metadata": {
    "collapsed": false
   },
   "outputs": [
    {
     "name": "stdout",
     "output_type": "stream",
     "text": [
      "w5pjur12qzvv1o\n"
     ]
    }
   ],
   "source": [
    "s= \"abcdefghijklmnopqrsquvwxyz123456789\"\n",
    "#m= s[np.random.randint(1,len(s))]\n",
    "password=''\n",
    "size=15\n",
    "for i in range(1, size):\n",
    "    m= s[np.random.randint(1,len(s))]\n",
    "    password=password + m # join() doesn't work here. Why?\n",
    "    \n",
    "print (password)"
   ]
  },
  {
   "cell_type": "markdown",
   "metadata": {},
   "source": [
    "## Excercise17\n",
    "Use the BeautifulSoup and requests Python packages to print out a list of all the article titles on the New York Times homepage."
   ]
  },
  {
   "cell_type": "markdown",
   "metadata": {},
   "source": [
    "### https://www.crummy.com/software/BeautifulSoup/bs4/doc.zh/#id4"
   ]
  },
  {
   "cell_type": "code",
   "execution_count": 134,
   "metadata": {
    "collapsed": false
   },
   "outputs": [
    {
     "name": "stdout",
     "output_type": "stream",
     "text": [
      "Collecting beautifulsoup4\n",
      "  Downloading beautifulsoup4-4.6.0-py3-none-any.whl (86kB)\n",
      "\u001b[K    100% |████████████████████████████████| 92kB 1.5MB/s ta 0:00:01\n",
      "\u001b[?25hInstalling collected packages: beautifulsoup4\n",
      "Successfully installed beautifulsoup4-4.6.0\n"
     ]
    }
   ],
   "source": [
    "!pip3 install beautifulsoup4 #记得是pip3来install啊！！！"
   ]
  },
  {
   "cell_type": "code",
   "execution_count": 136,
   "metadata": {
    "collapsed": false
   },
   "outputs": [],
   "source": [
    "from bs4 import BeautifulSoup"
   ]
  },
  {
   "cell_type": "code",
   "execution_count": 138,
   "metadata": {
    "collapsed": false
   },
   "outputs": [
    {
     "name": "stdout",
     "output_type": "stream",
     "text": [
      "Collecting requests\n",
      "  Downloading requests-2.18.4-py2.py3-none-any.whl (88kB)\n",
      "\u001b[K    100% |████████████████████████████████| 92kB 2.9MB/s ta 0:00:01\n",
      "\u001b[?25hRequirement already satisfied: certifi>=2017.4.17 in /Library/Frameworks/Python.framework/Versions/3.6/lib/python3.6/site-packages (from requests)\n",
      "Collecting chardet<3.1.0,>=3.0.2 (from requests)\n",
      "  Downloading chardet-3.0.4-py2.py3-none-any.whl (133kB)\n",
      "\u001b[K    100% |████████████████████████████████| 143kB 2.4MB/s ta 0:00:01\n",
      "\u001b[?25hCollecting urllib3<1.23,>=1.21.1 (from requests)\n",
      "  Downloading urllib3-1.22-py2.py3-none-any.whl (132kB)\n",
      "\u001b[K    100% |████████████████████████████████| 133kB 2.5MB/s ta 0:00:01\n",
      "\u001b[?25hCollecting idna<2.7,>=2.5 (from requests)\n",
      "  Downloading idna-2.6-py2.py3-none-any.whl (56kB)\n",
      "\u001b[K    100% |████████████████████████████████| 61kB 7.5MB/s eta 0:00:01\n",
      "\u001b[?25hInstalling collected packages: chardet, urllib3, idna, requests\n",
      "Successfully installed chardet-3.0.4 idna-2.6 requests-2.18.4 urllib3-1.22\n"
     ]
    }
   ],
   "source": [
    "!pip3 install requests"
   ]
  },
  {
   "cell_type": "code",
   "execution_count": 139,
   "metadata": {
    "collapsed": true
   },
   "outputs": [],
   "source": [
    "import requests"
   ]
  },
  {
   "cell_type": "code",
   "execution_count": 141,
   "metadata": {
    "collapsed": true
   },
   "outputs": [],
   "source": [
    "url=\"https://www.nytimes.com\""
   ]
  },
  {
   "cell_type": "code",
   "execution_count": 153,
   "metadata": {
    "collapsed": false
   },
   "outputs": [],
   "source": [
    "content = requests.get(url)"
   ]
  },
  {
   "cell_type": "code",
   "execution_count": 156,
   "metadata": {
    "collapsed": false
   },
   "outputs": [],
   "source": [
    "soup = BeautifulSoup(content.text, \"html5lib\")"
   ]
  },
  {
   "cell_type": "code",
   "execution_count": 82,
   "metadata": {
    "collapsed": false
   },
   "outputs": [],
   "source": [
    "#soup"
   ]
  },
  {
   "cell_type": "code",
   "execution_count": 183,
   "metadata": {
    "collapsed": false
   },
   "outputs": [
    {
     "name": "stdout",
     "output_type": "stream",
     "text": [
      "At Least 50 Dead in Las Vegas Shooting\n",
      "Bullets From Above in One of the Worst U.S. Mass Shootings\n",
      "What Happened in Las Vegas\n",
      "Live Updates: Dead Suspect Is Identified\n",
      "Who Is Stephen Paddock, the Shooting Suspect?\n",
      "A History of Mass Shootings in the U.S.\n",
      "Trump Tweets North Korea Outreach Is a Waste of Time\n",
      "Trial Begins in Murder of North Korean Leader’s Brother\n",
      "Trump Takes On All Comers, Believing Himself the Victor\n",
      "Island in Caribbean Sees Solitude Shift From Allure to Curse\n",
      "Puerto Rico Is Getting a Surge of Aid, Governor Says\n",
      "Once Trapped in Korea, Puerto Rican Vets Face Battle at Home\n",
      "Catalans Seek to Make Independence Vote Binding\n",
      "As Riot Police Gather, Students Defend Ballot Boxes at School\n",
      "Photos From Catalonia\n",
      "How a Wisconsin Case Could Reshape Redistricting\n",
      "Supreme Court, Back at Full Strength, Faces Major Cases\n",
      "Democrats’ Surprising Foe on ‘Dreamers’ Deal: Dreamers\n",
      "Exercise Showed Russia’s Growing Military Prowess\n",
      "\n",
      "                                    Watch Old Kosciuszko Bridge Implode                            \n",
      "A Gray Puff, and the Old Kosciuszko Bridge Is No More\n",
      "Your Monday Briefing\n",
      "California Today: Handicapping the Rainy Season\n",
      "Listen to ‘The Daily’\n",
      "How to Jump-Start Your Career\n",
      "All Your Equifax Breach Questions in One Place\n",
      "Obesity Was Already Rising in Ghana. Then Came KFC.\n",
      "Times Insider: The Global Siren Call of Fast Food\n",
      "S.I. Newhouse Jr., Unlikely Savior of The New Yorker\n",
      "Read the Obituary\n",
      "Father Describes Daughter Being Hit in Face by Line Drive\n",
      "With All Eyes on Players for Anthem, What About Fans?\n",
      "Here’s What Every N.F.L. Team Did During the National Anthem\n",
      "Vancouver Island, Through an Artist’s Eyes\n",
      "Restoring Those Old Liner Notes in Music’s Digital Era\n",
      "A Year Later, Trial to Begin in Chelsea Bombing Case\n",
      "Three Scientists Awarded Nobel Prize in Medicine\n",
      "Google Unveils Tools to Increase Subscriptions for Publishers\n",
      "Facebook to Deliver 3,000 Russia-Linked Ads to Congress\n",
      "Sikh Becomes Canada’s First Nonwhite Political Party Leader\n",
      "Morning Briefing: Australia Edition\n",
      "Morning Briefing: Asia Edition\n",
      "Morning Briefing: Europe Edition\n",
      "California Today\n",
      "Morning Briefing\n",
      "Elon Musk’s Mars Vision: A One-Size-Fits-All Rocket. A Very Big One.\n",
      "Australia’s Big Media Set to Get Bigger, With Help From Lawmakers\n",
      "Heaps of Stuff We Like\n",
      "On Being Jewish, American and a Writer\n",
      "A Landscape at Peace With Man and Nature\n",
      "Trust Buster for the New ‘Knowledge Monopoly’\n",
      "Actually, a Health Care Deal Is Possible\n",
      "The Decline of the European Center-Left\n",
      "Join us on Facebook »\n",
      "The Next Arab Spring? Women’s Rights\n",
      "Lire en français »\n",
      "Blow: Divert, Divide, Destroy\n",
      "Leonhardt: The Choice Between Kneeling and Winning\n",
      "One Very Big Reason Not to Scrap the Iranian Nuclear Deal\n",
      "What the Cubs Could Teach the President\n",
      "Who Can Beat Trump in 2020?\n",
      "The Global Siren Call of Fast Food\n",
      "When an Interviewee Runs Away\n",
      "How a Critic Opens a Book: A Q&A With Parul Sehgal\n",
      "Everything Is Fair Game in Football Coverage\n",
      "\n",
      "Live Event: Discussing Food Fads With the New York Times Podcast Club\n",
      "Live Event: Big City Book Club at the Billie Holiday Theatre\n",
      "Live Event: Discuss ‘Game of Thrones’ With The New York Times\n",
      "Live Event: ‘Fall Preview’ at Joe’s Pub\n",
      "The Global Siren Call of Fast Food\n",
      "Play Today’s Puzzle\n",
      "Play Today’s Puzzle\n",
      "Ta-Nehisi Coates on Race, Identity and Trump\n",
      "Democrats, Please Get Ready to Lose\n",
      "Trauma of Child’s Death ‘Doesn’t Go Away’\n",
      "Seeking Satirical and Standout Literary Fiction\n",
      "Erick Erickson: How to Find Common Ground\n",
      "Google’s Fake News Fight Raises Alarm on Margins\n",
      "Review: Debating Jesus in ‘Discord’\n",
      "Want to Know What Divides This Country? Come to Alabama\n",
      "Bring On the Exercise, Hold the Painkillers\n",
      "Man of ‘Gotham’ Returns With Second Volume\n",
      "The Wrong Pill Can Play With Your Mind\n",
      "New Black Boxes Easier to Track in Crashes at Sea\n",
      "\n",
      "        Catalonia’s Independence Vote Descends Into Chaos and Clashes        \n",
      "Captured ISIS Fighters’ Refrain: ‘I Was Only a Cook’\n",
      "Vehicle and Knife Attack in Edmonton Is Described as Terrorism\n",
      "\n",
      "        A Media Empire Loses Its King. What Now?        \n",
      "S.I. Newhouse Jr., Who Turned Condé Nast Into a Magazine Powerhouse, Dies at 89\n",
      "Facebook to Deliver 3,000 Russia-Linked Ads to Congress on Monday\n",
      "\n",
      "        Op-Ed Contributor: The Disastrous Decline of the European Center-Left        \n",
      "Editorial: Actually, a Health Care Deal Is Possible\n",
      "Charles M. Blow: Divert, Divide, Destroy\n",
      "\n",
      "        Las Vegas Shooting Near Mandalay Bay Casino Kills 50        \n",
      "Live Briefing: Las Vegas Shooting: Live Updates\n",
      "What Happened at the Las Vegas Shooting\n",
      "\n",
      "        Inside the Latest Power Struggle at Uber        \n",
      "In Power Move at Uber, Travis Kalanick Appoints 2 to Board\n",
      "Google Prepares to Brief Congress on Its Role in Election\n",
      "\n",
      "        In an Era of Strife, Museums Collect History as It Happens        \n",
      "Review: NBC’s ‘Megyn Kelly Today’ Isn’t Partisan, but It’s Awkward\n",
      "Review: Jefferson, Dickens and Tolstoy Debate Jesus. ‘Discord’ Ensues.\n",
      "\n",
      "        A Strong Nominee. A Divisive Opponent. But Can Democrats Win in Alabama?        \n",
      "News Analysis: Trump Takes On All Comers, Believing Himself the Victor\n",
      "Vast Exercise Demonstrated Russia’s Growing Military Prowess\n",
      "\n",
      "        Fashion Review: From Mars, That Dress Looks Awesome        \n",
      "L’Oréal Brings the Champs-Élysées to a Standstill\n",
      "Fashion Review: In the Russian Embassy With Comme des Garçons, and Other Weirdness\n",
      "\n",
      "        Tom Cruise’s ‘American Made’ Plays Second Fiddle to ‘It’        \n",
      "New Book About Woody Allen Alleges Abusive Parenting by Mia Farrow\n",
      "The ‘Blade Runner 2049’ Look: Sci-Fi Brought Back Down to Earth\n",
      "\n",
      "        New York Today: New York Today: Javier Muñoz of ‘Hamilton’ on Acting        \n",
      "A Gray Puff, and the Old Kosciuszko Bridge Is No More\n",
      "New York’s Subway Delays Could Cost City $389 Million a Year\n",
      "\n",
      "        On Pro Football: Please Rise for Our National Anthem — if You’re Not Too Busy        \n",
      "Father of Girl Hit by Ball Recounts Ordeal, and the Yankees Promise Fixes\n",
      "On Golf: How to Improve the Presidents Cup? Bring On the Women\n",
      "\n",
      "        Review: Jefferson, Dickens and Tolstoy Debate Jesus. ‘Discord’ Ensues.        \n",
      "Review: An ‘As You Like It’ That Is More Prose Than Poetry\n",
      "Review: In ‘Clockwork Orange,’ the Future is Dark and Very Fit\n",
      "\n",
      "        As Seas Warm, Whales Face New Dangers        \n",
      "Nobel Prize in Medicine Awarded for Biological Clock Research\n",
      "Trilobites: Who’s Eating Jellyfish? Penguins, That’s Who\n",
      "\n",
      "        S.I. Newhouse Jr., Who Turned Condé Nast Into a Magazine Powerhouse, Dies at 89        \n",
      "Monty Hall, Co-Creator and Host of ‘Let’s Make a Deal,’ Dies at 96\n",
      "CeDell Davis, Bluesman Who Played Guitar With a Knife, Dies at 91\n",
      "\n",
      "        ‘S.N.L.’ Returns: Jay-Z and Michael Che Take on Trump        \n",
      "Review: NBC’s ‘Megyn Kelly Today’ Isn’t Partisan, but It’s Awkward\n",
      "On Comedy: Watch the Evolution of Cringe Comedy in 9 Clips\n",
      "\n",
      "        Obesity Was Rising as Ghana Embraced Fast Food. Then Came KFC.        \n",
      "Nobel Prize in Medicine Awarded for Biological Clock Research\n",
      "Replacing Faulty Heart Devices Costs Medicare $1.5 Billion in 10 Years\n",
      "\n",
      "        Footsteps: Vancouver Island, Through an Artist’s Eyes        \n",
      "Update: What the State Department Warning on Cuba Means for Travelers\n",
      "Personal Journeys: A Muslim American’s Homecoming: Cowboys, Country Music, Chapatis\n",
      "\n",
      "        Books of The Times: Through the Lens of the Obama Years, Ta-Nehisi Coates Reckons With Race, Identity and Trump        \n",
      "Profile: The World According to Dan Brown\n",
      "Profile: Ta-Nehisi Coates and the Making of a Public Intellectual\n",
      "\n",
      "        High Tech and High Design, Cornell’s Roosevelt Island Campus Opens        \n",
      "Bannon Will Address Berkeley, a Hotbed of Conflict Over Free Speech\n",
      "After More Than 20 Years, Newark to Regain Control of Its Schools\n",
      "\n",
      "        City Kitchen: A Better Beet, Fresh From the Market        \n",
      "An Internet-Famous Cookie Worthy of Baking in Real Life\n",
      "Wine School: Your Next Lesson: Crozes-Hermitage\n",
      "\n",
      "        Feature: When ‘Not Guilty’ Is a Life Sentence        \n",
      "Feature: How Fake News Turned a Small Town Upside Down\n",
      "Feature: Here Comes the Closer . . . In the Seventh Inning?\n",
      "\n",
      "        Preparing Your Home for a Disaster        \n",
      "The Hunt: In Search of a Studio With Counter Space\n",
      "What I Love: What Frightens the ‘Goosebumps’ Writer R. L. Stine?\n",
      "\n",
      "        The New Health Care: What Makes Singapore’s Health Care So Cheap?        \n",
      "Midterm Outlook: Why Retirements May Hold the Key in Whether Republicans Can Keep the House\n",
      "Health and Wealth: The High Price of Failing America’s Costliest Patients\n",
      "\n",
      "        The Global Siren Call of Fast Food        \n",
      "When Budget Vacations Are Your Job\n",
      "'A Monumental Moment for Women’\n",
      "\n",
      "        Wheels: How to Avoid Buying a Car Flooded by Hurricanes        \n",
      "Lyft Adds Ford to Its List of Self-Driving Car Partners\n",
      "G.M. Chief, in China, Challenges Planned Bans of Gasoline Cars\n",
      "\n",
      "        T City Guides: T Fashion Editors’ Guide to Paris        \n",
      "On Beauty: Skin Care’s Backlash Against Essential Oils\n",
      "In Atlanta With Guo Pei, Who Spins Stories in Couture\n",
      "Kitchens and Their Evolving Personalities\n",
      "Search for Homes for Sale or Rent\n",
      "Mortgage Calculator\n"
     ]
    }
   ],
   "source": [
    "## inspect form the NEWYORKTIMES website, and found that all the article titles share the CSS class \"story-heading\"\n",
    "for parts in soup.find_all(class_=\"story-heading\"): \n",
    "    #print (parts)\n",
    "    #get information from <a> tags\n",
    "    if parts.a: \n",
    "        print(parts.a.text.replace(\"\\n\", \" \").strip())\n",
    "    #but some article titles are not included in the <a>\n",
    "    else: \n",
    "        print(parts.contents[0])\n",
    "        "
   ]
  },
  {
   "cell_type": "code",
   "execution_count": 176,
   "metadata": {
    "collapsed": false
   },
   "outputs": [],
   "source": [
    "#print (soup.head)"
   ]
  },
  {
   "cell_type": "markdown",
   "metadata": {},
   "source": [
    "## Excercise18\n",
    "Create a program that will play the “cows and bulls” game with the user. The game works like this:\n",
    "\n",
    "Randomly generate a 4-digit number. Ask the user to guess a 4-digit number. For every digit that the user guessed correctly in the correct place, they have a “cow”. For every digit the user guessed correctly in the wrong place is a “bull.” Every time the user makes a guess, tell them how many “cows” and “bulls” they have. Once the user guesses the correct number, the game is over. Keep track of the number of guesses the user makes throughout teh game and tell the user at the end.\n",
    "\n",
    "Say the number generated by the computer is 1038. An example interaction could look like this:\n",
    "\n",
    "  Welcome to the Cows and Bulls Game! \n",
    "  Enter a number: \n",
    "  \n",
    "  1234\n",
    "  \n",
    "  2 cows, 0 bulls\n",
    "  \n",
    "  1256\n",
    "  \n",
    "  1 cow, 1 bull\n",
    "  ..."
   ]
  },
  {
   "cell_type": "code",
   "execution_count": 30,
   "metadata": {
    "collapsed": false
   },
   "outputs": [],
   "source": [
    "import numpy as np\n",
    "origin_number= np.random.randint(1,9,4)"
   ]
  },
  {
   "cell_type": "code",
   "execution_count": 31,
   "metadata": {
    "collapsed": false
   },
   "outputs": [
    {
     "data": {
      "text/plain": [
       "array([4, 8, 6, 7])"
      ]
     },
     "execution_count": 31,
     "metadata": {},
     "output_type": "execute_result"
    }
   ],
   "source": [
    "origin_number"
   ]
  },
  {
   "cell_type": "code",
   "execution_count": 34,
   "metadata": {
    "collapsed": false
   },
   "outputs": [
    {
     "data": {
      "text/plain": [
       "8"
      ]
     },
     "execution_count": 34,
     "metadata": {},
     "output_type": "execute_result"
    }
   ],
   "source": [
    "origin_number[1]"
   ]
  },
  {
   "cell_type": "code",
   "execution_count": 78,
   "metadata": {
    "collapsed": false
   },
   "outputs": [
    {
     "name": "stdout",
     "output_type": "stream",
     "text": [
      "Plz give a 4-digit number: 4777\n"
     ]
    }
   ],
   "source": [
    "user_input= input(\"Plz give a 4-digit number: \")"
   ]
  },
  {
   "cell_type": "code",
   "execution_count": 79,
   "metadata": {
    "collapsed": false
   },
   "outputs": [],
   "source": [
    "def check(user_input):\n",
    "    cows=0\n",
    "    bulls=0\n",
    "    same_digit=[]\n",
    "    for i in range(len(user_input)):\n",
    "        if origin_number[i] == int(user_input[i]):\n",
    "            same_digit.append(origin_number[i])\n",
    "            cows= cows+1\n",
    "        else:\n",
    "            for j in range(len(user_input)):\n",
    "                if ( origin_number[i] == int(user_input[j]) ):\n",
    "                    bulls= bulls +1\n",
    "    return (cows, bulls) "
   ]
  },
  {
   "cell_type": "code",
   "execution_count": 80,
   "metadata": {
    "collapsed": false
   },
   "outputs": [
    {
     "name": "stdout",
     "output_type": "stream",
     "text": [
      "4777\n",
      "(2, 0)\n"
     ]
    }
   ],
   "source": [
    "print(user_input)\n",
    "print(check(user_input))"
   ]
  },
  {
   "cell_type": "markdown",
   "metadata": {
    "collapsed": true
   },
   "source": [
    "## Excercise19\n",
    "Using the requests and BeautifulSoup Python libraries, print to the screen the full text of the article on this website: http://www.vanityfair.com/society/2014/06/monica-lewinsky-humiliation-culture.\n",
    "\n",
    "The article is long, so it is split up between 4 pages. Your task is to print out the text to the screen so that you can read the full article without having to click any buttons.\n",
    "\n",
    "(Hint: The post here describes in detail how to use the BeautifulSoup and requests libraries through the solution of the exercise posted here.)\n",
    "\n",
    "This will just print the full text of the article to the screen. It will not make it easy to read, so next exercise we will learn how to write this text to a .txt file."
   ]
  },
  {
   "cell_type": "code",
   "execution_count": 81,
   "metadata": {
    "collapsed": true
   },
   "outputs": [],
   "source": [
    "from bs4 import BeautifulSoup\n",
    "import requests"
   ]
  },
  {
   "cell_type": "code",
   "execution_count": 90,
   "metadata": {
    "collapsed": false
   },
   "outputs": [],
   "source": [
    "url=\"http://www.vanityfair.com/society/2014/06/monica-lewinsky-humiliation-culture\"\n",
    "content= requests.get(url)\n",
    "soup= BeautifulSoup(content.text,\"html5lib\")"
   ]
  },
  {
   "cell_type": "code",
   "execution_count": 96,
   "metadata": {
    "collapsed": false
   },
   "outputs": [
    {
     "name": "stdout",
     "output_type": "stream",
     "text": [
      "[]\n",
      "Bill Clinton\n",
      "[<p data-reactid=\"256\">In 1998, when news of my affair with Bill Clinton broke, I was arguably the most humiliated person in the world. Thanks to the Drudge Report, I was also possibly the first person whose global humiliation was driven by the Internet.</p>, <p data-reactid=\"257\">For several years I tried my hand in the fashion-accessory business and became involved in various media projects, including the HBO documentary. Then I lay low for the most part. (The last major interview I granted was 10 years ago.) After all, not lying low had exposed me to criticism for trying to “capitalize” on my “notoriety.” Apparently, others talking about me is O.K.; me speaking out for myself is not. I turned down offers that would have earned me more than $10 million, because they didn’t feel like the right thing to do. Over time, the media circus quieted down, but it never quite moved on, even as I attempted to move on.</p>, <p data-reactid=\"258\">Meanwhile, I watched my friends’ lives move forward. Marriages. Kids. Degrees. (Second marriages. More kids. More degrees.) I decided to turn over a new leaf and attend grad school.</p>, <p data-reactid=\"259\">I moved to England to study, to challenge myself, to escape scrutiny, and to reimagine my identity. My professors and fellow students at the London School of Economics were wonderful—welcoming and respectful. I had more anonymity in London, perhaps due to the fact that I spent most of my waking hours in class or buried in the library. In 2006, I graduated with a master’s in social psychology. My master’s thesis examined social bias in the courtroom and was titled “In Search of the Impartial Juror: An Exploration of Pretrial Publicity and the Third Person Effect.” I liked to joke that I was trading the blue dress for blue stockings, and the degree provided new scaffolding to hang my life experiences on. It would also prove, so I hoped, to be a gateway to a more normal life.</p>, <p data-reactid=\"260\">I moved between London, Los Angeles, New York, and Portland, Oregon, interviewing for a variety of jobs that fell under the umbrella of “creative communication” and “branding,” with an emphasis on charity campaigns. Yet, because of what potential employers so tactfully referred to as my “history,” I was never “quite right” for the position. In some cases, I was right for all the wrong reasons, as in “Of course, your job would require you to attend our events.” And, <em>of course,</em> these would be events at which press would be in attendance.</p>, <p data-reactid=\"261\">In one promising job interview that took place during the run-up to the 2008 primary season, the conversation took an interesting turn. “So here’s the thing, Monica,” the interviewer said. “You’re clearly a bright young woman and affable, but for us—and probably any other organization that relies on grants and other government funding—it’s risky. We would first need a Letter of Indemnification from the Clintons. After all, there is a 25 percent chance that Mrs. Clinton will be the next president.” I gave a fake smile and said, “I understand.”</p>, <p data-reactid=\"262\">Another job interview, this one typical: walked into the stark, terminally cool reception area of a hip-yet-prestigious advertising agency in Los Angeles, my hometown. As always, I put on my best “I’m friendly, not a diva” smile. “Hi. Monica Lewinsky here to see So-and-So.”</p>, <p data-reactid=\"263\">The twentysomething receptionist pushed her black-rimmed hipster frames up her nose. “Monica <em>who?</em>”</p>, <p data-reactid=\"264\">Before I could answer, another twentysomething, in skinny jeans, plaid shirt, and bow tie, rushed over and interrupted: “ <em>Ms. Lewinsky.</em>” Like a maître d’, he continued, “<em>Pleasure to have you here.</em> I’ll let So-and-So know you’ve arrived. Soy latte? Green tea? Filtered water?”</p>, <p data-reactid=\"265\">I found myself sitting at a small round table, face-to-face with So-and-So, the agency’s head of strategy and planning. We talked. She kept wincing. This was not going well. I tried to keep myself from getting flustered. Now she was not only wincing but also clearing her throat. Was that perspiration on her brow? It hit me: <em>she</em> was nervous, in full-tic mode.</p>, <p data-reactid=\"266\">I’ve had to become adept at handling any number of reactions in social situations and job interviews. I get it: it must be disconcerting to sit across from “That Woman.” Needless to say, I didn’t get the position.</p>, <p data-reactid=\"267\">I eventually came to realize that traditional employment might not be an option for me. I’ve managed to get by (barely, at times) with my own projects, usually with start-ups that I have participated in, or with loans from friends and family.</p>, <p data-reactid=\"268\">In another job interview I was asked, “If you were a brand, which brand would you be?” Let me tell you, when you’re Monica Lewinsky, that is one loaded question.</p>, <p data-reactid=\"269\">In September of 2010, the culmination of these experiences began to snap into a broader context for me. A phone conversation with my mother shifted the lens through which I viewed my world. We were discussing the tragic death of Tyler Clementi. Tyler, you will recall, was an 18-year-old Rutgers freshman who was secretly streamed via Webcam kissing another man. Days later, after being derided and humiliated on social media, he committed suicide by jumping off the George Washington Bridge.</p>, <p data-reactid=\"270\">My mom wept. Sobbing, she kept repeating over and over, “How his parents must feel … his poor parents.”</p>, <p data-reactid=\"271\">It was an unbearably tragic event, and while hearing of it brought me to tears, too, I couldn’t quite grasp why my mom was so distraught. And then it dawned on me: she was reliving 1998, when she wouldn’t let me out of her sight. She was replaying those weeks when she stayed by my bed, night after night, because I, too, was suicidal. The shame, the scorn, and the fear that had been thrown at her daughter left her afraid that I would take my own life—a fear that I would be literally humiliated to death. (I have never actually attempted suicide, but I had strong suicidal temptations several times during the investigations and during one or two periods after.)</p>, <p data-reactid=\"272\">I would never be so presumptuous as to equate my own story with Tyler Clementi’s. After all, my public humiliation had been the result of my involvement with a world-renowned public figure—that is, a consequence of my own poor choices. But in that moment, when I felt the depths of my mother’s anguish, I wished I could have had a chance to have spoken to Tyler about how my love life, my sex life, my most private moments, my most sensitive secrets, had been broadcast around the globe. I wished I had been able to say to him that I knew a little of how it might have felt for him to be exposed before the world. And, as hard as it is to imagine surviving it, it is possible.</p>, <p data-reactid=\"273\">In the wake of Tyler’s tragedy, my own suffering took on a different meaning. Perhaps by sharing my story, I reasoned, I might be able to help others in their darkest moments of humiliation. The question became: How do I find and give a purpose to my past? It was my Prufrockian moment: “Do I dare / Disturb the universe?” Or, in my case, the Clinton universe.</p>]\n",
      "[<p data-reactid=\"275\">Despite a decade of self-imposed silence, I have been periodically resuscitated as part of the national conversation, almost always in connection with the Clintons. For instance, in January and February of this year, Rand Paul, the Kentucky senator and a possible 2016 Republican presidential aspirant, managed to drag me into the pre-election muck. He fought back against the Democrats’ charges of a G.O.P. “war on women” by arguing that Bill Clinton had committed workplace “violence” and acted in a “predatory” manner against “a 20-year-old girl who was there from college.”</p>, <p data-reactid=\"276\">Sure, my boss took advantage of me, but I will always remain firm on this point: it was a consensual relationship. Any “abuse” came in the aftermath, when I was made a scapegoat in order to protect his powerful position.</p>, <p data-reactid=\"277\">So, trying to disappear has not kept me out of the fray. I am, for better or for worse, presumed to be a known quantity. Every day I am recognized. <em>Every day.</em> Sometimes a person will walk past me again and again, as if I wouldn’t notice. (Thankfully, 99.9 percent of the time when strangers do say something to me they are supportive and respectful.) Every day someone mentions me in a tweet or a blog post, and not altogether kindly. Every day, it seems, my name shows up in an op-ed column or a press clip or two—mentioned in passing in articles on subjects as disparate as millennials, <em>Scandal,</em> and French president François Hollande’s love life. Miley Cyrus references me in her twerking stage act, Eminem raps about me, and Beyoncé’s latest hit gives me a shout-out. Thanks, Beyoncé, but if we’re verbing, I think you meant “Bill Clinton’d all on my gown,” not “Monica Lewinsky’d.”</p>, <p data-reactid=\"278\">With every man I date (<em>yes,</em> I date!), I go through some degree of 1998 whiplash. I need to be extremely circumspect about what it means to be “public” with someone. In the early years post-impeachment, I once left a front-row seat along the third-base line at a Yankees game when I learned that my date—a guy whose company I thoroughly enjoyed—was actually in another relationship. It was only a green-card marriage, but I freaked that we could be photographed together and someone might call the gossip rags. I’ve become adept at figuring out when men are interested in me for the wrong reason. Thankfully, those have been few and far between. But every man that has been special to me over the past 16 years has helped me find another piece of myself—the self that was shattered in 1998. And so, no matter the heartbreak, tears, or disenchantment, I’ll always be grateful to them.</p>]\n",
      "[<p data-reactid=\"280\">In February of this year, around the same time Senator Paul put me back into the unwanted spotlight, I became the “narcissistic loony toon,” the latest twist on Me as Archetype.</p>, <p data-reactid=\"281\">A snapshot of a scenario I’ve grown all too accustomed to, even as I attempt to move on with my life: A shrill ring interrupts the rhythms of my day. The call—from the doorman of the apartment building where I’m staying in New York—leads me to an exasperated “<em>What? Again?</em>” They’ve reappeared: the paparazzi, like swallows, have returned to the sidewalk outside, pacing and circling and pacing some more.</p>, <p data-reactid=\"282\">I hit the computer. Time for a little self-Google. (Oh, dear reader, please do not judge.) My heart sinks. There’s an explosion on Google News. I know what this means. Whatever day I’ve planned has been jettisoned. To leave the house—and risk a photo—only ensures that the story will stay alive.</p>, <p data-reactid=\"283\">The cameras have returned because of the headlines: a conservative Web site has gone poking around the University of Arkansas archive of one of Hillary Clinton’s closest friends and admirers, Diane Blair, and has unearthed a cache of memos from the 1990s. In some of them, Blair, who died in 2000, quotes the former First Lady about her husband’s relationship with me. Though Hillary, according to Blair’s notes, claimed to find her husband’s “lapse” inexcusable, she praised him for trying to “manage someone who was clearly a ‘narcissistic loony toon.’ ”</p>, <p data-reactid=\"284\">My first thought, as I was getting up to speed: If that’s the <em>worst</em> thing she said, I should be so lucky. Mrs. Clinton, I read, had supposedly confided to Blair that, in part, she blamed <em>herself</em> for her husband’s affair (by being emotionally neglectful) and seemed to forgive him. Although she regarded Bill as having engaged in “gross inappropriate behavior,” the affair was, nonetheless, “consensual (was not a power relationship).”</p>, <p data-reactid=\"285\">I field the usual calls from friends who lend moral support whenever these volcanic media stories erupt. They diffuse the tension with good-natured teasing: “So, are we changing your monogram to NLT?” I try to ignore the former First Lady’s long-buried comments. Given my experiences with Linda Tripp, I know better than anyone what it’s like to have a conversation with a girlfriend exposed and scrutinized, taken out of context. But, even so, it begins to gnaw at me. I realize that Hillary Clinton was—unlike me when Tripp was prying loose my innermost secrets and insecurities and recording them surreptitiously—fully aware of this documentation: she’s the one who, according to the memos, asked Blair to keep a record or diary of their discussions for archival purposes.</p>, <p data-reactid=\"286\">Yes, I get it. Hillary Clinton wanted it on record that she was lashing out at her husband’s mistress. She may have faulted her husband for being inappropriate, but I find her impulse to blame the Woman—not only me, but herself—troubling. And all too familiar: with every marital indiscretion that finds its way into the public sphere—many of which involve male politicians—it always seems like the woman conveniently takes the fall. Sure, the Anthony Weiners and Eliot Spitzers do what they need to do to look humiliated on cable news. They bow out of public life for a while, but they inevitably return, having put it all behind them. The women in these imbroglios return to lives that are not so easily repaired.</p>, <p data-reactid=\"287\">But there is another layer here that is making me bristle: <em>Narcissist? Loony?</em></p>, <p data-reactid=\"288\">You might remember that just five days before the world had ever heard my name the F.B.I.—after my friend Linda Tripp approached Special Prosecutor Kenneth Starr’s office with information about my affair with the president—entrapped me in a terrifying “sting” in the Pentagon City mall. At age 24, cornered in a hotel room on January 16, 1998, with mainly male interrogators taking orders from Starr, I was discouraged from contacting my attorney and threatened with 27 years in jail for filing an affidavit denying the affair with Clinton, among other alleged crimes. I was offered immunity from that threat if I agreed to place monitored calls and wear a wire in conversations with two of the president’s confidants and possibly the president himself. I refused. Confiding in Linda Tripp turned into an unintended betrayal. But this? The mother of all betrayals. That, I couldn’t do. Courageous or foolish, maybe, but narcissistic and loony?</p>]\n",
      "Writing in Vanity Fair, Marjorie Williams\n",
      "[<p data-reactid=\"314\">I , <em>myself, deeply regret what happened between me and President Clinton. Let me say it again: I. Myself. Deeply. Regret. What. Happened. At the time—at least from my point of view—it was an authentic connection, with emotional intimacy, frequent visits, plans made, phone calls and gifts exchanged. In my early 20s, I was too young to understand the real-life consequences, and too young to see that I would be sacrificed for political expediency. I look back now, shake my head in disbelief, and wonder: what was I—what were we—thinking? I would give anything to go back and rewind the tape.</em></p>]\n",
      "[<p data-reactid=\"316\">Like many other Americans, I’ve been thinking about Hillary Clinton. What might happen, I’ve wondered, if she does run in 2016? And what if she wins—and then wins a second term?</p>, <p data-reactid=\"317\">But when I think about these matters, there’s a dimension at play for me other than just the fact that we might finally have a woman in the White House. We all remember the second-wave feminist rallying cry <em>The personal is political.</em> Many people (myself included) proclaimed that my relationship with Bill Clinton was a personal matter, not one to be used in a high-stakes political war. When I hear of Hillary’s prospective candidacy, I cannot help but fear the next wave of paparazzi, the next wave of “Where is she now?” stories, the next reference to me in Fox News’s coverage of the primaries. I’ve begun to find it debilitating to plot out the cycle of my life based, to some degree, on the political calendar. For me, it’s a scenario in which the personal and the political are impossible to separate.</p>, <p data-reactid=\"318\">In 2008, when Hillary was running for president, I remained virtually reclusive, despite being inundated with press requests. I put off announcing several media projects in 2012 until after the election. (They were subsequently canceled—and, no, I wasn’t offered $12 million for a salacious tell-all book, contrary to press reports.) And recently I’ve found myself gun-shy yet again, fearful of “becoming an issue” should she decide to ramp up her campaign. But should I put my life on hold for <em>another</em> 8 to 10 years?</p>, <p data-reactid=\"319\">Being a conscientious Democrat—and aware that I could be used as a tool for the left or the right—I have remained silent for 10 years. So silent, in fact, that the buzz in some circles has been that the Clintons must have paid me off; why <em>else</em> would I have refrained from speaking out? I can assure you that nothing could be further from the truth.</p>, <p data-reactid=\"320\">So why speak now? Because it is time.</p>, <p data-reactid=\"321\">I turned 40 last year, and it is time to stop tiptoeing around my past—and other people’s futures. I am determined to have a different ending to my story. I’ve decided, finally, to stick my head above the parapet so that I can take back my narrative and give a purpose to my past. (What this will cost me, I will soon find out.) Despite what some headlines will falsely report about this piece, this is <em>not</em> about Me versus the Clintons. Their lives have moved on; they occupy important and powerful places on the global stage. I wish them no ill. And I fully understand that what has happened to me and the issue of my future do not matter to either of them.</p>, <p data-reactid=\"322\">It also goes back to the personal and the political. I have lived many of the questions that have become central to our national discourse since 1998. How far should we allow the government into our bedrooms? How do we reconcile the right to privacy with the need to expose sexual indiscretion? How do we guard against an overzealous government demanding our private data and information? And, most important to me personally, how do we cope with the shame game as it’s played in the Internet Age? (My current goal is to get involved with efforts on behalf of victims of online humiliation and harassment and to start speaking on this topic in public forums.)</p>]\n",
      "Full Screen\n"
     ]
    }
   ],
   "source": [
    "## class=\"content-section\"\n",
    "for parts in soup.find_all(class_=\"content-section\"): \n",
    "    #print(parts)\n",
    "    if parts.a:\n",
    "        print(parts.a.text.replace(\"\\n\",\" \").strip())\n",
    "    else:\n",
    "        print(parts.contents)\n",
    "        "
   ]
  },
  {
   "cell_type": "markdown",
   "metadata": {},
   "source": [
    "#### 他山之玉\n",
    "all_p_cn_text_body = soup.select(\"div.parbase.cn_text > div.body > p\")\n",
    "\n",
    "for elem in all_p_cn_text_body[7:]:\n",
    "  print(elem.text)"
   ]
  },
  {
   "cell_type": "markdown",
   "metadata": {},
   "source": [
    "## Excercise20\n",
    "Write a function that takes an ordered list of numbers (a list where the elements are in order from smallest to largest) and another number. The function decides whether or not the given number is inside the list and returns (then prints) an appropriate boolean."
   ]
  },
  {
   "cell_type": "code",
   "execution_count": 99,
   "metadata": {
    "collapsed": false
   },
   "outputs": [],
   "source": [
    "def existence_check(sorted_list, nr):\n",
    "    existe\n",
    "    for i in range(len(sorted_list)):\n",
    "        if nr== sorted_list[i]:\n",
    "            return True\n",
    "        else:\n",
    "            return False\n",
    "      \n",
    "a=[1,2,3,4,5,6,7]"
   ]
  },
  {
   "cell_type": "code",
   "execution_count": 100,
   "metadata": {
    "collapsed": false
   },
   "outputs": [
    {
     "name": "stdout",
     "output_type": "stream",
     "text": [
      "False\n"
     ]
    }
   ],
   "source": [
    "print(existence_check(a, 3))"
   ]
  },
  {
   "cell_type": "code",
   "execution_count": null,
   "metadata": {
    "collapsed": true
   },
   "outputs": [],
   "source": []
  }
 ],
 "metadata": {
  "kernelspec": {
   "display_name": "Python 3",
   "language": "python",
   "name": "python3"
  },
  "language_info": {
   "codemirror_mode": {
    "name": "ipython",
    "version": 3
   },
   "file_extension": ".py",
   "mimetype": "text/x-python",
   "name": "python",
   "nbconvert_exporter": "python",
   "pygments_lexer": "ipython3",
   "version": "3.6.2"
  }
 },
 "nbformat": 4,
 "nbformat_minor": 2
}
