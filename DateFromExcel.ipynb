{
 "cells": [
  {
   "cell_type": "code",
   "execution_count": 7,
   "metadata": {
    "collapsed": false
   },
   "outputs": [
    {
     "name": "stdout",
     "output_type": "stream",
     "text": [
      "Collecting xlrd\n",
      "  Downloading xlrd-1.1.0-py2.py3-none-any.whl (108kB)\n",
      "\u001b[K    100% |████████████████████████████████| 112kB 2.1MB/s ta 0:00:01\n",
      "\u001b[?25hInstalling collected packages: xlrd\n",
      "Successfully installed xlrd-1.1.0\n"
     ]
    }
   ],
   "source": [
    "!pip3 install xlrd"
   ]
  },
  {
   "cell_type": "code",
   "execution_count": 58,
   "metadata": {
    "collapsed": false
   },
   "outputs": [
    {
     "name": "stdout",
     "output_type": "stream",
     "text": [
      "Collecting xlsxwriter\n",
      "  Downloading XlsxWriter-1.0.2-py2.py3-none-any.whl (139kB)\n",
      "\u001b[K    100% |████████████████████████████████| 143kB 2.6MB/s ta 0:00:01\n",
      "\u001b[?25hInstalling collected packages: xlsxwriter\n",
      "Successfully installed xlsxwriter-1.0.2\n"
     ]
    }
   ],
   "source": [
    "!pip3 install xlsxwriter"
   ]
  },
  {
   "cell_type": "code",
   "execution_count": 59,
   "metadata": {
    "collapsed": false
   },
   "outputs": [],
   "source": [
    "import pandas as pd\n",
    "from pandas import ExcelWriter\n",
    "from pandas import ExcelFile\n",
    "import numpy as np\n",
    "import re\n",
    "import xlsxwriter"
   ]
  },
  {
   "cell_type": "code",
   "execution_count": 3,
   "metadata": {
    "collapsed": false
   },
   "outputs": [],
   "source": [
    "data= pd.read_excel(\"wp.xlsx\",index_col=None, na_values=['NA'], parse_cols = \"B:B\")"
   ]
  },
  {
   "cell_type": "code",
   "execution_count": 17,
   "metadata": {
    "collapsed": false
   },
   "outputs": [
    {
     "data": {
      "text/html": [
       "<div>\n",
       "<style>\n",
       "    .dataframe thead tr:only-child th {\n",
       "        text-align: right;\n",
       "    }\n",
       "\n",
       "    .dataframe thead th {\n",
       "        text-align: left;\n",
       "    }\n",
       "\n",
       "    .dataframe tbody tr th {\n",
       "        vertical-align: top;\n",
       "    }\n",
       "</style>\n",
       "<table border=\"1\" class=\"dataframe\">\n",
       "  <thead>\n",
       "    <tr style=\"text-align: right;\">\n",
       "      <th></th>\n",
       "      <th>Url</th>\n",
       "    </tr>\n",
       "  </thead>\n",
       "  <tbody>\n",
       "    <tr>\n",
       "      <th>0</th>\n",
       "      <td>https://www.washingtonpost.com/business/future...</td>\n",
       "    </tr>\n",
       "    <tr>\n",
       "      <th>1</th>\n",
       "      <td>https://www.washingtonpost.com/entertainment/3...</td>\n",
       "    </tr>\n",
       "    <tr>\n",
       "      <th>2</th>\n",
       "      <td>https://www.washingtonpost.com/business/techno...</td>\n",
       "    </tr>\n",
       "    <tr>\n",
       "      <th>3</th>\n",
       "      <td>https://www.washingtonpost.com/national/zombie...</td>\n",
       "    </tr>\n",
       "    <tr>\n",
       "      <th>4</th>\n",
       "      <td>https://www.washingtonpost.com/lifestyle/home/...</td>\n",
       "    </tr>\n",
       "    <tr>\n",
       "      <th>5</th>\n",
       "      <td>https://www.washingtonpost.com/business/dan-gi...</td>\n",
       "    </tr>\n",
       "    <tr>\n",
       "      <th>6</th>\n",
       "      <td>https://www.washingtonpost.com/national/ap-nat...</td>\n",
       "    </tr>\n",
       "    <tr>\n",
       "      <th>7</th>\n",
       "      <td>https://www.washingtonpost.com/world/europe/br...</td>\n",
       "    </tr>\n",
       "    <tr>\n",
       "      <th>8</th>\n",
       "      <td>https://www.washingtonpost.com/business/techno...</td>\n",
       "    </tr>\n",
       "    <tr>\n",
       "      <th>9</th>\n",
       "      <td>https://www.washingtonpost.com/national/ap-nat...</td>\n",
       "    </tr>\n",
       "    <tr>\n",
       "      <th>10</th>\n",
       "      <td>https://www.washingtonpost.com/national/38-acc...</td>\n",
       "    </tr>\n",
       "    <tr>\n",
       "      <th>11</th>\n",
       "      <td>https://www.washingtonpost.com/business/techno...</td>\n",
       "    </tr>\n",
       "    <tr>\n",
       "      <th>12</th>\n",
       "      <td>https://www.washingtonpost.com/local/pm-update...</td>\n",
       "    </tr>\n",
       "    <tr>\n",
       "      <th>13</th>\n",
       "      <td>https://www.washingtonpost.com/entertainment/b...</td>\n",
       "    </tr>\n",
       "    <tr>\n",
       "      <th>14</th>\n",
       "      <td>https://www.washingtonpost.com/business/techno...</td>\n",
       "    </tr>\n",
       "    <tr>\n",
       "      <th>15</th>\n",
       "      <td>https://www.washingtonpost.com/business/vegas-...</td>\n",
       "    </tr>\n",
       "    <tr>\n",
       "      <th>16</th>\n",
       "      <td>https://www.washingtonpost.com/lifestyle/stitc...</td>\n",
       "    </tr>\n",
       "    <tr>\n",
       "      <th>17</th>\n",
       "      <td>https://www.washingtonpost.com/business/target...</td>\n",
       "    </tr>\n",
       "    <tr>\n",
       "      <th>18</th>\n",
       "      <td>https://www.washingtonpost.com/entertainment/b...</td>\n",
       "    </tr>\n",
       "    <tr>\n",
       "      <th>19</th>\n",
       "      <td>https://www.washingtonpost.com/business/target...</td>\n",
       "    </tr>\n",
       "    <tr>\n",
       "      <th>20</th>\n",
       "      <td>https://www.washingtonpost.com/national/target...</td>\n",
       "    </tr>\n",
       "    <tr>\n",
       "      <th>21</th>\n",
       "      <td>https://www.washingtonpost.com/business/techno...</td>\n",
       "    </tr>\n",
       "    <tr>\n",
       "      <th>22</th>\n",
       "      <td>https://www.washingtonpost.com/entertainment/b...</td>\n",
       "    </tr>\n",
       "    <tr>\n",
       "      <th>23</th>\n",
       "      <td>https://www.washingtonpost.com/national/nielse...</td>\n",
       "    </tr>\n",
       "    <tr>\n",
       "      <th>24</th>\n",
       "      <td>https://www.washingtonpost.com/business/techno...</td>\n",
       "    </tr>\n",
       "    <tr>\n",
       "      <th>25</th>\n",
       "      <td>https://www.washingtonpost.com/national/little...</td>\n",
       "    </tr>\n",
       "    <tr>\n",
       "      <th>26</th>\n",
       "      <td>https://www.washingtonpost.com/business/busine...</td>\n",
       "    </tr>\n",
       "    <tr>\n",
       "      <th>27</th>\n",
       "      <td>https://www.washingtonpost.com/national/energy...</td>\n",
       "    </tr>\n",
       "    <tr>\n",
       "      <th>28</th>\n",
       "      <td>https://www.washingtonpost.com/business/busine...</td>\n",
       "    </tr>\n",
       "    <tr>\n",
       "      <th>29</th>\n",
       "      <td>https://www.washingtonpost.com/politics/big-qu...</td>\n",
       "    </tr>\n",
       "    <tr>\n",
       "      <th>...</th>\n",
       "      <td>...</td>\n",
       "    </tr>\n",
       "    <tr>\n",
       "      <th>3958</th>\n",
       "      <td>http://primary.washingtonpost.com/business/eco...</td>\n",
       "    </tr>\n",
       "    <tr>\n",
       "      <th>3959</th>\n",
       "      <td>http://primary.washingtonpost.com/entertainmen...</td>\n",
       "    </tr>\n",
       "    <tr>\n",
       "      <th>3960</th>\n",
       "      <td>http://www.washingtonpost.com/wp-dyn/content/a...</td>\n",
       "    </tr>\n",
       "    <tr>\n",
       "      <th>3961</th>\n",
       "      <td>http://primary.washingtonpost.com/national/gla...</td>\n",
       "    </tr>\n",
       "    <tr>\n",
       "      <th>3962</th>\n",
       "      <td>http://primary.washingtonpost.com/sports/study...</td>\n",
       "    </tr>\n",
       "    <tr>\n",
       "      <th>3963</th>\n",
       "      <td>http://primary.washingtonpost.com/business/eco...</td>\n",
       "    </tr>\n",
       "    <tr>\n",
       "      <th>3964</th>\n",
       "      <td>http://primary.washingtonpost.com/entertainmen...</td>\n",
       "    </tr>\n",
       "    <tr>\n",
       "      <th>3965</th>\n",
       "      <td>http://primary.washingtonpost.com/lifestyle/st...</td>\n",
       "    </tr>\n",
       "    <tr>\n",
       "      <th>3966</th>\n",
       "      <td>http://primary.washingtonpost.com/lifestyle/st...</td>\n",
       "    </tr>\n",
       "    <tr>\n",
       "      <th>3967</th>\n",
       "      <td>http://www.washingtonpost.com/wp-dyn/content/a...</td>\n",
       "    </tr>\n",
       "    <tr>\n",
       "      <th>3968</th>\n",
       "      <td>http://www.washingtonpost.com/wp-dyn/content/a...</td>\n",
       "    </tr>\n",
       "    <tr>\n",
       "      <th>3969</th>\n",
       "      <td>http://www.washingtonpost.com/wp-dyn/content/a...</td>\n",
       "    </tr>\n",
       "    <tr>\n",
       "      <th>3970</th>\n",
       "      <td>http://www.washingtonpost.com/wp-dyn/content/a...</td>\n",
       "    </tr>\n",
       "    <tr>\n",
       "      <th>3971</th>\n",
       "      <td>http://www.washingtonpost.com/wp-dyn/content/a...</td>\n",
       "    </tr>\n",
       "    <tr>\n",
       "      <th>3972</th>\n",
       "      <td>http://primary.washingtonpost.com/local/border...</td>\n",
       "    </tr>\n",
       "    <tr>\n",
       "      <th>3973</th>\n",
       "      <td>http://www.washingtonpost.com/wp-dyn/content/a...</td>\n",
       "    </tr>\n",
       "    <tr>\n",
       "      <th>3974</th>\n",
       "      <td>http://primary.washingtonpost.com/lifestyle/fo...</td>\n",
       "    </tr>\n",
       "    <tr>\n",
       "      <th>3975</th>\n",
       "      <td>http://www.washingtonpost.com/wp-dyn/content/a...</td>\n",
       "    </tr>\n",
       "    <tr>\n",
       "      <th>3976</th>\n",
       "      <td>http://www.washingtonpost.com/wp-dyn/content/a...</td>\n",
       "    </tr>\n",
       "    <tr>\n",
       "      <th>3977</th>\n",
       "      <td>http://www.washingtonpost.com/wp-dyn/content/a...</td>\n",
       "    </tr>\n",
       "    <tr>\n",
       "      <th>3978</th>\n",
       "      <td>http://www.washingtonpost.com/wp-dyn/content/a...</td>\n",
       "    </tr>\n",
       "    <tr>\n",
       "      <th>3979</th>\n",
       "      <td>http://primary.washingtonpost.com/world/ecuado...</td>\n",
       "    </tr>\n",
       "    <tr>\n",
       "      <th>3980</th>\n",
       "      <td>http://www.washingtonpost.com/wp-dyn/content/a...</td>\n",
       "    </tr>\n",
       "    <tr>\n",
       "      <th>3981</th>\n",
       "      <td>http://primary.washingtonpost.com/lifestyle/st...</td>\n",
       "    </tr>\n",
       "    <tr>\n",
       "      <th>3982</th>\n",
       "      <td>http://www.washingtonpost.com/wp-dyn/content/a...</td>\n",
       "    </tr>\n",
       "    <tr>\n",
       "      <th>3983</th>\n",
       "      <td>http://www.washingtonpost.com/wp-dyn/content/a...</td>\n",
       "    </tr>\n",
       "    <tr>\n",
       "      <th>3984</th>\n",
       "      <td>http://www.washingtonpost.com/wp-dyn/content/a...</td>\n",
       "    </tr>\n",
       "    <tr>\n",
       "      <th>3985</th>\n",
       "      <td>http://primary.washingtonpost.com/lifestyle/tr...</td>\n",
       "    </tr>\n",
       "    <tr>\n",
       "      <th>3986</th>\n",
       "      <td>http://www.washingtonpost.com/wp-dyn/content/a...</td>\n",
       "    </tr>\n",
       "    <tr>\n",
       "      <th>3987</th>\n",
       "      <td>http://www.washingtonpost.com/wp-dyn/content/a...</td>\n",
       "    </tr>\n",
       "  </tbody>\n",
       "</table>\n",
       "<p>3988 rows × 1 columns</p>\n",
       "</div>"
      ],
      "text/plain": [
       "                                                    Url\n",
       "0     https://www.washingtonpost.com/business/future...\n",
       "1     https://www.washingtonpost.com/entertainment/3...\n",
       "2     https://www.washingtonpost.com/business/techno...\n",
       "3     https://www.washingtonpost.com/national/zombie...\n",
       "4     https://www.washingtonpost.com/lifestyle/home/...\n",
       "5     https://www.washingtonpost.com/business/dan-gi...\n",
       "6     https://www.washingtonpost.com/national/ap-nat...\n",
       "7     https://www.washingtonpost.com/world/europe/br...\n",
       "8     https://www.washingtonpost.com/business/techno...\n",
       "9     https://www.washingtonpost.com/national/ap-nat...\n",
       "10    https://www.washingtonpost.com/national/38-acc...\n",
       "11    https://www.washingtonpost.com/business/techno...\n",
       "12    https://www.washingtonpost.com/local/pm-update...\n",
       "13    https://www.washingtonpost.com/entertainment/b...\n",
       "14    https://www.washingtonpost.com/business/techno...\n",
       "15    https://www.washingtonpost.com/business/vegas-...\n",
       "16    https://www.washingtonpost.com/lifestyle/stitc...\n",
       "17    https://www.washingtonpost.com/business/target...\n",
       "18    https://www.washingtonpost.com/entertainment/b...\n",
       "19    https://www.washingtonpost.com/business/target...\n",
       "20    https://www.washingtonpost.com/national/target...\n",
       "21    https://www.washingtonpost.com/business/techno...\n",
       "22    https://www.washingtonpost.com/entertainment/b...\n",
       "23    https://www.washingtonpost.com/national/nielse...\n",
       "24    https://www.washingtonpost.com/business/techno...\n",
       "25    https://www.washingtonpost.com/national/little...\n",
       "26    https://www.washingtonpost.com/business/busine...\n",
       "27    https://www.washingtonpost.com/national/energy...\n",
       "28    https://www.washingtonpost.com/business/busine...\n",
       "29    https://www.washingtonpost.com/politics/big-qu...\n",
       "...                                                 ...\n",
       "3958  http://primary.washingtonpost.com/business/eco...\n",
       "3959  http://primary.washingtonpost.com/entertainmen...\n",
       "3960  http://www.washingtonpost.com/wp-dyn/content/a...\n",
       "3961  http://primary.washingtonpost.com/national/gla...\n",
       "3962  http://primary.washingtonpost.com/sports/study...\n",
       "3963  http://primary.washingtonpost.com/business/eco...\n",
       "3964  http://primary.washingtonpost.com/entertainmen...\n",
       "3965  http://primary.washingtonpost.com/lifestyle/st...\n",
       "3966  http://primary.washingtonpost.com/lifestyle/st...\n",
       "3967  http://www.washingtonpost.com/wp-dyn/content/a...\n",
       "3968  http://www.washingtonpost.com/wp-dyn/content/a...\n",
       "3969  http://www.washingtonpost.com/wp-dyn/content/a...\n",
       "3970  http://www.washingtonpost.com/wp-dyn/content/a...\n",
       "3971  http://www.washingtonpost.com/wp-dyn/content/a...\n",
       "3972  http://primary.washingtonpost.com/local/border...\n",
       "3973  http://www.washingtonpost.com/wp-dyn/content/a...\n",
       "3974  http://primary.washingtonpost.com/lifestyle/fo...\n",
       "3975  http://www.washingtonpost.com/wp-dyn/content/a...\n",
       "3976  http://www.washingtonpost.com/wp-dyn/content/a...\n",
       "3977  http://www.washingtonpost.com/wp-dyn/content/a...\n",
       "3978  http://www.washingtonpost.com/wp-dyn/content/a...\n",
       "3979  http://primary.washingtonpost.com/world/ecuado...\n",
       "3980  http://www.washingtonpost.com/wp-dyn/content/a...\n",
       "3981  http://primary.washingtonpost.com/lifestyle/st...\n",
       "3982  http://www.washingtonpost.com/wp-dyn/content/a...\n",
       "3983  http://www.washingtonpost.com/wp-dyn/content/a...\n",
       "3984  http://www.washingtonpost.com/wp-dyn/content/a...\n",
       "3985  http://primary.washingtonpost.com/lifestyle/tr...\n",
       "3986  http://www.washingtonpost.com/wp-dyn/content/a...\n",
       "3987  http://www.washingtonpost.com/wp-dyn/content/a...\n",
       "\n",
       "[3988 rows x 1 columns]"
      ]
     },
     "execution_count": 17,
     "metadata": {},
     "output_type": "execute_result"
    }
   ],
   "source": [
    "data"
   ]
  },
  {
   "cell_type": "code",
   "execution_count": 4,
   "metadata": {
    "collapsed": true
   },
   "outputs": [],
   "source": [
    "links= data[['Url']].values"
   ]
  },
  {
   "cell_type": "code",
   "execution_count": 5,
   "metadata": {
    "collapsed": false
   },
   "outputs": [
    {
     "name": "stdout",
     "output_type": "stream",
     "text": [
      "[ 'https://www.washingtonpost.com/business/futures-and-options-for-the-week-of-oct-23/2017/10/20/b948c0d8-b2a0-11e7-9e58-e6288544af98_story.html']\n"
     ]
    }
   ],
   "source": [
    "print(links[0])"
   ]
  },
  {
   "cell_type": "code",
   "execution_count": 31,
   "metadata": {
    "collapsed": true
   },
   "outputs": [],
   "source": [
    "def represent_int(s):\n",
    "    try: \n",
    "        int(s)\n",
    "        return True\n",
    "    except ValueError:\n",
    "        return False"
   ]
  },
  {
   "cell_type": "code",
   "execution_count": 61,
   "metadata": {
    "collapsed": false
   },
   "outputs": [],
   "source": [
    "def findyear(single_link):\n",
    "    has_date= False\n",
    "    date=''\n",
    "    for ele in single_link:\n",
    "        if(represent_int(ele) and int(ele)>2005 and int(ele)<2018):\n",
    "            has_date=True\n",
    "            date=ele\n",
    "    if(has_date):\n",
    "        return(date)\n",
    "    else:\n",
    "        return ('No date available')  "
   ]
  },
  {
   "cell_type": "code",
   "execution_count": 71,
   "metadata": {
    "collapsed": false
   },
   "outputs": [
    {
     "name": "stdout",
     "output_type": "stream",
     "text": [
      "0\n"
     ]
    }
   ],
   "source": [
    "remained_articles=0\n",
    "year=[]\n",
    "for i in range(len(links)):\n",
    "    single_link= links[i][0].split(\"/\")\n",
    "    #print(parts)\n",
    "    #下面是对每个link而言\n",
    "    year.append(findyear(single_link))\n",
    "\n",
    "df = pd.DataFrame({'Data': year})\n",
    "writer = pd.ExcelWriter('dates.xlsx', engine='xlsxwriter')\n",
    "df.to_excel(writer, sheet_name='Sheet1')\n",
    "writer.save()\n",
    "        #year=findyear(ele)\n",
    "print(remained_articles)\n",
    "   "
   ]
  },
  {
   "cell_type": "code",
   "execution_count": null,
   "metadata": {
    "collapsed": true
   },
   "outputs": [],
   "source": []
  },
  {
   "cell_type": "code",
   "execution_count": null,
   "metadata": {
    "collapsed": true
   },
   "outputs": [],
   "source": []
  }
 ],
 "metadata": {
  "kernelspec": {
   "display_name": "Python 3",
   "language": "python",
   "name": "python3"
  },
  "language_info": {
   "codemirror_mode": {
    "name": "ipython",
    "version": 3
   },
   "file_extension": ".py",
   "mimetype": "text/x-python",
   "name": "python",
   "nbconvert_exporter": "python",
   "pygments_lexer": "ipython3",
   "version": "3.6.2"
  }
 },
 "nbformat": 4,
 "nbformat_minor": 2
}
